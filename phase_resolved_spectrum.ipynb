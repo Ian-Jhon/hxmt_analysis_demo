{
 "cells": [
  {
   "cell_type": "markdown",
   "metadata": {},
   "source": [
    "# *Insight*-HXMT 相位分解谱处理示例\n",
    "## ——[概览](#概览)、[数据预处理](#数据预处理)、[计时分析](#计时分析)、[能谱分析](#能谱分析)\n",
    "\n",
    "庹攸隶 (tuoyl@ihep.ac.cn)\n",
    "##### 最终结果：使用慧眼一次 Crab 的观测数据，产生 Crab 脉冲星的相位分解谱"
   ]
  },
  {
   "cell_type": "markdown",
   "metadata": {},
   "source": [
    "## 概览\n",
    "### 准备工作\n",
    "该 Jupyter 文本使用 Python3 环境，若想执行以下所有命令，需要做这些准备：\n",
    "* 安装并初始化 HXMTDAS 环境（例如能在终端中运行```hepical```命令）\n",
    "* 使用 Python3.* 版本，并安装有 astropy, numpy, matplotlib 模块\n",
    "    （若使用 conda 环境，请在 environment.yml 文件所在路径执行 ``` conda env create -f environment.yml ``` 安装名为 hxmt_analysis 的环境，然后执行 ```conda activate hxmt_analysis```\n",
    "    <div class=\"alert alert-block alert-info\">\n",
    "<b>NOTES\n",
    "    :</b> 该介绍中涉及到的命令，你可以在 Jupyter 中使用 Shift+Enter 逐条执行。你同时完全可以在终端中执行所有命令。\n",
    "</div>\n",
    "\n",
    "该 Jupyter notebook 将放在 https://github.com/tuoyl/hxmt_analysis_demo 托管更新，你可以下载到文中涉及到的 Python 脚本。你也可以使用 pip 下载一个名为 hxmt-analysis-demo 的模块 ```python -m pip install --index-url https://test.pypi.org/simple/ --no-deps hxmt-analysis-demo```，该模块中同样包含了这些脚本。\n",
    "### 目标\n",
    "* **数据预处理**：使用慧眼用户处理软件（HXMTDAS v2.01）产生用于分析的数据产品\n",
    "* **计时分析**：使用 Crab 的星历（ephemeris）产生 Crab 的脉冲轮廓\n",
    "* **能谱分析**：对轮廓分成多个相位区间，得到各个区间的能谱及背景能谱"
   ]
  },
  {
   "cell_type": "markdown",
   "metadata": {},
   "source": [
    "## 数据预处理\n",
    "数据预处理针对三个载荷高能、中能和低等载荷，分别是：\n",
    "* [高能载荷(HE)数据处理](#高能载荷(HE)数据处理)\n",
    "* [中能载荷(ME)数据处理](#中能载荷(ME)数据处理)\n",
    "* [低能载荷(LE)数据处理](#低能载荷(LE)数据处理)\n",
    "\n",
    "### 高能载荷(HE)数据处理\n",
    "### hepical"
   ]
  },
  {
   "cell_type": "code",
   "execution_count": 4,
   "metadata": {
    "scrolled": true
   },
   "outputs": [
    {
     "name": "stdout",
     "output_type": "stream",
     "text": [
      "hepical : ##############################################\n",
      "hepical : HXMT HE task, hepical is running\n",
      "hepical : PILParSet Warning: parameter 'clobber' set to yes!\n",
      "hepical : PILParSet Warning: the file ./data/HE/he_pi.fits will be overwritten!\n",
      "hepical : HxmtCaldb Error: There are not files that satisfied the selection criteria!\n",
      "hepical : HxmtCaldb Error: 'Telescope' HXMT 'instrument' HE 'detname' NONE 'filter' NONE 'codename' CHAN2PI_0' \n",
      "hepical : hepical: Error: Unable to get 'gain (codename:CHAN2PI_0)' file named ''!\n",
      "hepical : HXMT HE task, hepical is running unsuccessfully!\n",
      "hepical : ##############################################\n"
     ]
    }
   ],
   "source": [
    "!hepical evtfile=./data/HE/HXMT_P010129900101_HE-Evt_FFFFFF_V1_L1P.FITS outfile=./data/HE/he_pi.fits clobber=yes"
   ]
  },
  {
   "cell_type": "markdown",
   "metadata": {},
   "source": [
    "<div class=\"alert alert-block alert-warning\">\n",
    "<b>NOTES:</b> 若出现报错 hepical : hepical: Error: Unable to get 'gain (codename:CHAN2PI_0)' file named ''! 则根据 CALDB 中 gainfile 的路径手动指定，执行如下命令。\n",
    "</div>"
   ]
  },
  {
   "cell_type": "code",
   "execution_count": 7,
   "metadata": {},
   "outputs": [
    {
     "name": "stdout",
     "output_type": "stream",
     "text": [
      "hepical : ##############################################\n",
      "hepical : HXMT HE task, hepical is running\n",
      "[####################################################################################################][100%]\n",
      "hepical : HXMT HE task, all events from raw evt file is 145630697!\n",
      "hepical : HXMT HE task, glitch removal events is 636135!\n",
      "hepical : HXMT HE task, hepical is running successfully!\n",
      "hepical : ##############################################\n"
     ]
    }
   ],
   "source": [
    "!hepical evtfile=./data/HE/HXMT_P010129900101_HE-Evt_FFFFFF_V1_L1P.FITS gainfile=/Users/tuoyouli/Documents/hxmtsoft_newtest/CALDB/data/hxmt/he/bcf/hxmt_he_gain_20171030_v1.fits outfile=./data/HE/he_pi.fits clobber=yes"
   ]
  },
  {
   "cell_type": "markdown",
   "metadata": {},
   "source": [
    "运行该命令根据不同的计算机性能，通常会占用你2-3分钟的时间。输出产生一个新的事例文件，命名为 he_pi.fits。"
   ]
  },
  {
   "cell_type": "code",
   "execution_count": 8,
   "metadata": {},
   "outputs": [
    {
     "name": "stdout",
     "output_type": "stream",
     "text": [
      "total 9658648\r\n",
      "-rwx------  1 tuoyouli  staff     1143360 Aug 19 15:31 \u001b[31mHXMT_P010129900101_HE-HV_FFFFFF_V1_L1P.FITS\u001b[m\u001b[m\r\n",
      "-rwx------  1 tuoyouli  staff      469440 Aug 19 15:31 \u001b[31mHXMT_P010129900101_HE-DTime_FFFFFF_V1_L1P.FITS\u001b[m\u001b[m\r\n",
      "-rwx------  1 tuoyouli  staff      109440 Aug 19 15:31 \u001b[31mHXMT_P010129900101_HE-PM_FFFFFF_V1_L1P.FITS\u001b[m\u001b[m\r\n",
      "-rwx------  1 tuoyouli  staff     1673280 Aug 19 15:31 \u001b[31mHXMT_P010129900101_HE-TH_FFFFFF_V1_L1P.FITS\u001b[m\u001b[m\r\n",
      "-rw-r--r--  1 tuoyouli  staff  2330262720 Aug 19 15:31 HXMT_P010129900101_HE-Evt_FFFFFF_V1_L1P.FITS\r\n",
      "-rwx------  1 tuoyouli  staff      149760 Aug 19 15:31 \u001b[31mHXMT_P010129900101_HE-InsStat_FFFFFF_V1_L1P.FITS\u001b[m\u001b[m\r\n",
      "-rw-r--r--  1 tuoyouli  staff  2610072000 Aug 19 20:18 he_pi.fits\r\n"
     ]
    }
   ],
   "source": [
    "!ls -trl ./data/HE/"
   ]
  },
  {
   "cell_type": "markdown",
   "metadata": {},
   "source": [
    "### hegtigen\n",
    "生成 HE 载荷的好时间文件（GTIs）"
   ]
  },
  {
   "cell_type": "code",
   "execution_count": 11,
   "metadata": {},
   "outputs": [
    {
     "name": "stdout",
     "output_type": "stream",
     "text": [
      "hegtigen : ##############################################\n",
      "hegtigen : HXMT HE task, hegtigen is running\n",
      "hegtigen : PILParSet Warning: parameter 'clobber' set to yes!\n",
      "hegtigen : PILParSet Warning: the file ./data/HE/he_gti.fits will be overwritten!\n",
      "hegtigen : HXMT HE task, hegtigen is running successfully!\n",
      "hegtigen : ##############################################\n"
     ]
    }
   ],
   "source": [
    "!hegtigen hvfile=./data/HE/HXMT_P010129900101_HE-HV_FFFFFF_V1_L1P.FITS tempfile=./data/HE/HXMT_P010129900101_HE-TH_FFFFFF_V1_L1P.FITS ehkfile=./data/AUX/HXMT_P010129900101_HE-EHK_FFFFFF_V1_L1P.FITS outfile=./data/HE/he_gti.fits defaultexpr=\"NONE\" expr=\"ELV>10&&COR>8&&T_SAA>=300&&TN_SAA>=300&&ANG_DIST<=0.04\" clobber=yes"
   ]
  },
  {
   "cell_type": "markdown",
   "metadata": {},
   "source": [
    "我们推荐的对于涉及到能谱分析的好时间判选条件为```ELV>10&&COR>8&&T_SAA>=300&&TN_SAA>=300&&ANG_DIST<=0.04```。\n",
    "同样的，你可以查看输出文件，我们这一步产生了一个命名为 he_gti.fits 的 FITS 文件。"
   ]
  },
  {
   "cell_type": "code",
   "execution_count": 12,
   "metadata": {},
   "outputs": [
    {
     "name": "stdout",
     "output_type": "stream",
     "text": [
      "total 9658688\r\n",
      "-rwx------  1 tuoyouli  staff     1143360 Aug 19 15:31 \u001b[31mHXMT_P010129900101_HE-HV_FFFFFF_V1_L1P.FITS\u001b[m\u001b[m\r\n",
      "-rwx------  1 tuoyouli  staff      469440 Aug 19 15:31 \u001b[31mHXMT_P010129900101_HE-DTime_FFFFFF_V1_L1P.FITS\u001b[m\u001b[m\r\n",
      "-rwx------  1 tuoyouli  staff      109440 Aug 19 15:31 \u001b[31mHXMT_P010129900101_HE-PM_FFFFFF_V1_L1P.FITS\u001b[m\u001b[m\r\n",
      "-rwx------  1 tuoyouli  staff     1673280 Aug 19 15:31 \u001b[31mHXMT_P010129900101_HE-TH_FFFFFF_V1_L1P.FITS\u001b[m\u001b[m\r\n",
      "-rw-r--r--  1 tuoyouli  staff  2330262720 Aug 19 15:31 HXMT_P010129900101_HE-Evt_FFFFFF_V1_L1P.FITS\r\n",
      "-rwx------  1 tuoyouli  staff      149760 Aug 19 15:31 \u001b[31mHXMT_P010129900101_HE-InsStat_FFFFFF_V1_L1P.FITS\u001b[m\u001b[m\r\n",
      "-rw-r--r--  1 tuoyouli  staff  2610072000 Aug 19 20:18 he_pi.fits\r\n",
      "-rw-r--r--  1 tuoyouli  staff       17280 Aug 19 20:19 he_gti.fits\r\n"
     ]
    }
   ],
   "source": [
    "!ls -trl ./data/HE/"
   ]
  },
  {
   "cell_type": "markdown",
   "metadata": {},
   "source": [
    "### hescreen\n",
    "根据 GTIs 选择出符合要求的好事例"
   ]
  },
  {
   "cell_type": "code",
   "execution_count": 1,
   "metadata": {},
   "outputs": [
    {
     "name": "stdout",
     "output_type": "stream",
     "text": [
      "hescreen : ##############################################\n",
      "hescreen : HXMT HE task, hescreen is running\n",
      "hescreen : PILParSet Warning: parameter 'clobber' set to yes!\n",
      "hescreen : PILParSet Warning: the file ./data/HE/he_screen.fits will be overwritten!\n",
      "hescreen : hescreen: User detector selection:\n",
      "hescreen : HxmtBadDetector Info: there is no bad detector!\n",
      "[####################################################################################################][100%]\n",
      "hescreen : HEScreen task: \n",
      "hescreen : Detector ID '0' has event number :237400\n",
      "hescreen : Detector ID '1' has event number :244273\n",
      "hescreen : Detector ID '2' has event number :263201\n",
      "hescreen : Detector ID '3' has event number :247841\n",
      "hescreen : Detector ID '4' has event number :236576\n",
      "hescreen : Detector ID '5' has event number :242721\n",
      "hescreen : Detector ID '6' has event number :252674\n",
      "hescreen : Detector ID '7' has event number :237050\n",
      "hescreen : Detector ID '8' has event number :261260\n",
      "hescreen : Detector ID '9' has event number :272592\n",
      "hescreen : Detector ID '10' has event number :230527\n",
      "hescreen : Detector ID '11' has event number :235224\n",
      "hescreen : Detector ID '12' has event number :238701\n",
      "hescreen : Detector ID '13' has event number :231849\n",
      "hescreen : Detector ID '14' has event number :223936\n",
      "hescreen : Detector ID '15' has event number :232500\n",
      "hescreen : Detector ID '16' has event number :91033\n",
      "hescreen : Detector ID '17' has event number :234191\n",
      "hescreen : HXMT HE task, hescreen is running successfully!\n",
      "hescreen : ##############################################\n"
     ]
    }
   ],
   "source": [
    "!hescreen evtfile=./data/HE/he_pi.fits gtifile=./data/HE/he_gti.fits outfile=./data/HE/he_screen.fits userdetid=0-17 minPI=0 maxPI=255 clobber=yes"
   ]
  },
  {
   "cell_type": "markdown",
   "metadata": {},
   "source": [
    "运行 hescreen 命令大约会占用你1分钟时间，输出文件为 he_screen.fits。我们这里选择了探测器编号0-17，即全选，选择了能道0-255，也是全选。如果你选择产生不同能段的光子，则可以修改 minPI 和 maxPI 的值。"
   ]
  },
  {
   "cell_type": "markdown",
   "metadata": {},
   "source": [
    "### hespecgen \n",
    "生成能谱文件（spectra）"
   ]
  },
  {
   "cell_type": "code",
   "execution_count": 1,
   "metadata": {},
   "outputs": [
    {
     "name": "stdout",
     "output_type": "stream",
     "text": [
      "hespecgen : HXMT HE task, hespecgen is running\n",
      "hespecgen : hespecgen: User detector selection:\n",
      "[####################################################################################################][100%]\n",
      "hespecgen : HXMT HE task, hespecgen is running successfully!\n",
      "hespecgen : ##############################################\n"
     ]
    }
   ],
   "source": [
    "!hespecgen evtfile=./data/HE/he_screen.fits outfile=./data/HE/he_spec deadfile=./data/HE/HXMT_P010129900101_HE-DTime_FFFFFF_V1_L1P.FITS userdetid=\"0;1;2;3;4;5;6;7;8;9;10;11;12;13;14;15;16;17\" starttime=0 stoptime=0 minPI=0 maxPI=255 clobber=yes"
   ]
  },
  {
   "cell_type": "markdown",
   "metadata": {},
   "source": [
    "我们在这一步生成了 HE 的18个探测器的能谱，通过 userdetid 参数选择探测器。使用分号(;)将各个探测器编号做分割，使我们产生了18个能谱，而不是18个探测器的总能谱。可以查看一下我们产生的结果，是18个以```he_spec```为前缀的```.pha```文件。能谱的结果可以在[能谱分析](#能谱分析)一节查看，这里暂不做展开。"
   ]
  },
  {
   "cell_type": "code",
   "execution_count": 6,
   "metadata": {
    "scrolled": true
   },
   "outputs": [
    {
     "name": "stdout",
     "output_type": "stream",
     "text": [
      "HXMT_P010129900101_HE-HV_FFFFFF_V1_L1P.FITS\t  he_spec_g4_4.pha\r\n",
      "HXMT_P010129900101_HE-DTime_FFFFFF_V1_L1P.FITS\t  he_spec_g3_3.pha\r\n",
      "he_pi.fits\t\t\t\t\t  he_spec_g2_2.pha\r\n",
      "he_gti.fits\t\t\t\t\t  he_spec_g17_17.pha\r\n",
      "HXMT_P010129900101_HE-PM_FFFFFF_V1_L1P.FITS\t  he_spec_g16_16.pha\r\n",
      "he_screen.fits\t\t\t\t\t  he_spec_g15_15.pha\r\n",
      "HXMT_P010129900101_HE-TH_FFFFFF_V1_L1P.FITS\t  he_spec_g14_14.pha\r\n",
      "HXMT_P010129900101_HE-InsStat_FFFFFF_V1_L1P.FITS  he_spec_g13_13.pha\r\n",
      "HXMT_P010129900101_HE-Evt_FFFFFF_V1_L1P.FITS\t  he_spec_g12_12.pha\r\n",
      "he_spec_g9_9.pha\t\t\t\t  he_spec_g1_1.pha\r\n",
      "he_spec_g8_8.pha\t\t\t\t  he_spec_g11_11.pha\r\n",
      "he_spec_g7_7.pha\t\t\t\t  he_spec_g10_10.pha\r\n",
      "he_spec_g6_6.pha\t\t\t\t  he_spec_g0_0.pha\r\n",
      "he_spec_g5_5.pha\r\n"
     ]
    }
   ],
   "source": [
    "!ls -tr ./data/HE/"
   ]
  },
  {
   "cell_type": "markdown",
   "metadata": {},
   "source": [
    "<div class=\"alert alert-block alert-info\">\n",
    "<b>NOTES:</b> 我们之所以要产生18个能谱而不是一个总谱，是由于各个探测器的响应矩阵不一样，我们在之后会根据各个探测器的能谱产生其各自的响应（盲探测器不产生）。最后可以使用脚本 hhe_spec2pi 将能谱和响应矩阵合并。\n",
    "</div>"
   ]
  },
  {
   "cell_type": "code",
   "execution_count": 1,
   "metadata": {},
   "outputs": [
    {
     "name": "stdout",
     "output_type": "stream",
     "text": [
      "./data/HE/he_spec_g0_0.pha\r\n",
      "./data/HE/he_spec_g1_1.pha\r\n",
      "./data/HE/he_spec_g2_2.pha\r\n",
      "./data/HE/he_spec_g3_3.pha\r\n",
      "./data/HE/he_spec_g4_4.pha\r\n",
      "./data/HE/he_spec_g5_5.pha\r\n",
      "./data/HE/he_spec_g6_6.pha\r\n",
      "./data/HE/he_spec_g7_7.pha\r\n",
      "./data/HE/he_spec_g8_8.pha\r\n",
      "./data/HE/he_spec_g9_9.pha\r\n",
      "./data/HE/he_spec_g10_10.pha\r\n",
      "./data/HE/he_spec_g11_11.pha\r\n",
      "./data/HE/he_spec_g12_12.pha\r\n",
      "./data/HE/he_spec_g13_13.pha\r\n",
      "./data/HE/he_spec_g14_14.pha\r\n",
      "./data/HE/he_spec_g15_15.pha\r\n",
      "./data/HE/he_spec_g16_16.pha\r\n",
      "./data/HE/he_spec_g17_17.pha\r\n"
     ]
    }
   ],
   "source": [
    "!ls ./data/HE/he_spec*.pha | sort -V > ./data/HE/he_spec.txt\n",
    "!cat ./data/HE/he_spec.txt"
   ]
  },
  {
   "cell_type": "markdown",
   "metadata": {},
   "source": [
    "### herspgen\n",
    "产生除盲探测器外，所有探测器各自的响应矩阵"
   ]
  },
  {
   "cell_type": "code",
   "execution_count": 1,
   "metadata": {},
   "outputs": [
    {
     "name": "stdout",
     "output_type": "stream",
     "text": [
      "herspgen : HXMT HE task, herspgen is running\n",
      "herspgen : HERspGen: Attitude and Alignment correction of detector '0'  is 0.985351 !\n",
      "herspgen : HXMT HE task, herspgen is running successfully!\n",
      "herspgen : ##############################################\n",
      "herspgen : HXMT HE task, herspgen is running\n",
      "herspgen : HERspGen: Attitude and Alignment correction of detector '1'  is 0.980126 !\n",
      "herspgen : HXMT HE task, herspgen is running successfully!\n",
      "herspgen : ##############################################\n",
      "herspgen : HXMT HE task, herspgen is running\n",
      "herspgen : HERspGen: Attitude and Alignment correction of detector '2'  is 0.995052 !\n",
      "herspgen : HXMT HE task, herspgen is running successfully!\n",
      "herspgen : ##############################################\n",
      "herspgen : HXMT HE task, herspgen is running\n",
      "herspgen : HERspGen: Attitude and Alignment correction of detector '3'  is 0.980126 !\n",
      "herspgen : HXMT HE task, herspgen is running successfully!\n",
      "herspgen : ##############################################\n",
      "herspgen : HXMT HE task, herspgen is running\n",
      "herspgen : HERspGen: Attitude and Alignment correction of detector '4'  is 0.985351 !\n",
      "herspgen : HXMT HE task, herspgen is running successfully!\n",
      "herspgen : ##############################################\n",
      "herspgen : HXMT HE task, herspgen is running\n",
      "herspgen : HERspGen: Attitude and Alignment correction of detector '5'  is 0.988759 !\n",
      "herspgen : HXMT HE task, herspgen is running successfully!\n",
      "herspgen : ##############################################\n",
      "herspgen : HXMT HE task, herspgen is running\n",
      "herspgen : HERspGen: Attitude and Alignment correction of detector '6'  is 0.988759 !\n",
      "herspgen : HXMT HE task, herspgen is running successfully!\n",
      "herspgen : ##############################################\n",
      "herspgen : HXMT HE task, herspgen is running\n",
      "herspgen : HERspGen: Attitude and Alignment correction of detector '7'  is 0.985351 !\n",
      "herspgen : HXMT HE task, herspgen is running successfully!\n",
      "herspgen : ##############################################\n",
      "herspgen : HXMT HE task, herspgen is running\n",
      "herspgen : HERspGen: Attitude and Alignment correction of detector '8'  is 0.980126 !\n",
      "herspgen : HXMT HE task, herspgen is running successfully!\n",
      "herspgen : ##############################################\n",
      "herspgen : HXMT HE task, herspgen is running\n",
      "herspgen : HERspGen: Attitude and Alignment correction of detector '9'  is 0.99474 !\n",
      "herspgen : HXMT HE task, herspgen is running successfully!\n",
      "herspgen : ##############################################\n",
      "herspgen : HXMT HE task, herspgen is running\n",
      "herspgen : HERspGen: Attitude and Alignment correction of detector '10'  is 0.988759 !\n",
      "herspgen : HXMT HE task, herspgen is running successfully!\n",
      "herspgen : ##############################################\n",
      "herspgen : HXMT HE task, herspgen is running\n",
      "herspgen : HERspGen: Attitude and Alignment correction of detector '11'  is 0.980126 !\n",
      "herspgen : HXMT HE task, herspgen is running successfully!\n",
      "herspgen : ##############################################\n",
      "herspgen : HXMT HE task, herspgen is running\n",
      "herspgen : HERspGen: Attitude and Alignment correction of detector '12'  is 0.980126 !\n",
      "herspgen : HXMT HE task, herspgen is running successfully!\n",
      "herspgen : ##############################################\n",
      "herspgen : HXMT HE task, herspgen is running\n",
      "herspgen : HERspGen: Attitude and Alignment correction of detector '13'  is 0.988759 !\n",
      "herspgen : HXMT HE task, herspgen is running successfully!\n",
      "herspgen : ##############################################\n",
      "herspgen : HXMT HE task, herspgen is running\n",
      "herspgen : HERspGen: Attitude and Alignment correction of detector '14'  is 0.985351 !\n",
      "herspgen : HXMT HE task, herspgen is running successfully!\n",
      "herspgen : ##############################################\n",
      "herspgen : HXMT HE task, herspgen is running\n",
      "herspgen : HERspGen: Attitude and Alignment correction of detector '15'  is 0.988759 !\n",
      "herspgen : HXMT HE task, herspgen is running successfully!\n",
      "herspgen : ##############################################\n",
      "herspgen : HXMT HE task, herspgen is running\n",
      "herspgen : HERspGen: Attitude and Alignment correction of detector '17'  is 0.985351 !\n",
      "herspgen : HXMT HE task, herspgen is running successfully!\n",
      "herspgen : ##############################################\n"
     ]
    }
   ],
   "source": [
    "phalist = open(\"./data/HE/he_spec.txt\")\n",
    "for phafile,i in zip(phalist,range(18)):\n",
    "    if i == 16:continue # 16号盲探测器不产生响应矩阵\n",
    "    herspgen_text = \"herspgen phafile=%s outfile=./data/HE/he_rsp_g%s.fits attfile=%s ra=-1 dec=-91 clobber=yes\"%(phafile[0:-1], str(i), \"./data/ACS/HXMT_P010129900101_Att_FFFFFF_V1_L1P.FITS\")\n",
    "    !{herspgen_text}\n",
    "phalist.close()"
   ]
  },
  {
   "cell_type": "markdown",
   "metadata": {},
   "source": [
    "我们产生了17个探测器的响应矩阵。可以查看产生的结果"
   ]
  },
  {
   "cell_type": "code",
   "execution_count": 4,
   "metadata": {},
   "outputs": [
    {
     "name": "stdout",
     "output_type": "stream",
     "text": [
      "./data/HE//he_rsp_g0.fits  ./data/HE//he_rsp_g9.fits\r\n",
      "./data/HE//he_rsp_g1.fits  ./data/HE//he_rsp_g10.fits\r\n",
      "./data/HE//he_rsp_g2.fits  ./data/HE//he_rsp_g11.fits\r\n",
      "./data/HE//he_rsp_g3.fits  ./data/HE//he_rsp_g12.fits\r\n",
      "./data/HE//he_rsp_g4.fits  ./data/HE//he_rsp_g13.fits\r\n",
      "./data/HE//he_rsp_g5.fits  ./data/HE//he_rsp_g14.fits\r\n",
      "./data/HE//he_rsp_g6.fits  ./data/HE//he_rsp_g15.fits\r\n",
      "./data/HE//he_rsp_g7.fits  ./data/HE//he_rsp_g17.fits\r\n",
      "./data/HE//he_rsp_g8.fits\r\n"
     ]
    }
   ],
   "source": [
    "!ls -tr ./data/HE//he_rsp*"
   ]
  },
  {
   "cell_type": "markdown",
   "metadata": {},
   "source": [
    "### 中能载荷(ME)数据处理"
   ]
  },
  {
   "cell_type": "markdown",
   "metadata": {},
   "source": [
    "### mepical\n",
    "ME 探测器的 Pulse Invariance CALibration。\n",
    "输入的两个文件，```evtfile=``` 输入的是原始的事例文件（文件名的关键字是```ME-Evt```），```tempfile``` 是温度文件（文件名的关键字是```ME-TH```）"
   ]
  },
  {
   "cell_type": "code",
   "execution_count": 1,
   "metadata": {},
   "outputs": [
    {
     "name": "stdout",
     "output_type": "stream",
     "text": [
      "mepical : ##############################################\n",
      "mepical : HXMT ME task, mepical is running\n",
      "[####################################################################################################][100%]\n",
      "mepical : HXMT ME task, mepical is running successfully!\n",
      "mepical : ##############################################\n"
     ]
    }
   ],
   "source": [
    "!mepical evtfile=./data/ME/HXMT_P010129900101_ME-Evt_FFFFFF_V1_L1P.FITS tempfile=./data/ME/HXMT_P010129900101_ME-TH_FFFFFF_V1_L1P.FITS outfile=./data/ME/me_pi.fits clobber=yes"
   ]
  },
  {
   "cell_type": "markdown",
   "metadata": {},
   "source": [
    "我们可以查看新产生的文件"
   ]
  },
  {
   "cell_type": "code",
   "execution_count": 4,
   "metadata": {},
   "outputs": [
    {
     "name": "stdout",
     "output_type": "stream",
     "text": [
      "-rw-r--r--  1 tuoyouli  staff  2267202240 Aug 23 21:29 ./data/ME/me_pi.fits\r\n"
     ]
    }
   ],
   "source": [
    "!ls -l ./data/ME/me_pi.fits"
   ]
  },
  {
   "cell_type": "markdown",
   "metadata": {},
   "source": [
    "### megrade\n",
    "对 ME 的事例进行分级，并挑选“单分裂”事例。同时可以产生 ME 的死时间文件。```evtfile``` 是输入的文件名，该文件是上一步 ```mepical``` 输出产生的文件。```outfile``` 和 ```deadfile``` 分别为输出的完成事例挑选的文件名和输出的死时间文件的文件名。"
   ]
  },
  {
   "cell_type": "code",
   "execution_count": 5,
   "metadata": {},
   "outputs": [
    {
     "name": "stdout",
     "output_type": "stream",
     "text": [
      "megrade : ##############################################\n",
      "megrade : HXMT ME task, megrade is running\n",
      "[####################################################################################################][100%]\n",
      "megrade : HXMT ME task, megrade is running successfully!\n",
      "megrade : ##############################################\n"
     ]
    }
   ],
   "source": [
    "!megrade evtfile=./data/ME/me_pi.fits outfile=./data/ME/me_grade.fits deadfile=./data/ME/me_dtime.fits clobber=yes"
   ]
  },
  {
   "cell_type": "markdown",
   "metadata": {},
   "source": [
    "### megtigen\n",
    "产生 ME 探测器对应的好时间文件。好时间的判选条件和 HE 的选择条件相同，为```ELV>10&&COR>8&&T_SAA>=300&&TN_SAA>=300&&ANG_DIST<=0.04```"
   ]
  },
  {
   "cell_type": "code",
   "execution_count": 1,
   "metadata": {},
   "outputs": [
    {
     "name": "stdout",
     "output_type": "stream",
     "text": [
      "megtigen : ##############################################\n",
      "megtigen : HXMT ME task, megtigen is running\n",
      "megtigen : PILParSet Warning: parameter 'clobber' set to yes!\n",
      "megtigen : PILParSet Warning: the file ./data/ME/me_gti.fits will be overwritten!\n",
      "megtigen : HXMT ME task, megtigen is running successfully!\n",
      "megtigen : ##############################################\n"
     ]
    }
   ],
   "source": [
    "!megtigen tempfile=./data/ME/HXMT_P010129900101_ME-TH_FFFFFF_V1_L1P.FITS ehkfile=./data/AUX/HXMT_P010129900101_HE-EHK_FFFFFF_V1_L1P.FITS outfile=./data/ME/me_gti.fits defaultexpr=\"NONE\" expr=\"ELV>10&&COR>8&&T_SAA>=300&&TN_SAA>=300&&ANG_DIST<=0.04\" clobber=yes"
   ]
  },
  {
   "cell_type": "markdown",
   "metadata": {},
   "source": [
    "我们可以查看，产生了一个命名为 me_gti.fits 的文件"
   ]
  },
  {
   "cell_type": "code",
   "execution_count": 1,
   "metadata": {},
   "outputs": [
    {
     "name": "stdout",
     "output_type": "stream",
     "text": [
      "./data/ME//me_gti.fits\r\n"
     ]
    }
   ],
   "source": [
    "!ls ./data/ME//me_gti.fits"
   ]
  },
  {
   "cell_type": "markdown",
   "metadata": {},
   "source": [
    "### megti\n",
    "使用 megti.py 脚本，可以进一步筛选GTIs。在上一步产生的 GTI 文件的基础上，去除掉粒子本底影响较大的时间段。我们可以使用```-h```参数查看该脚本的运行方式。"
   ]
  },
  {
   "cell_type": "code",
   "execution_count": 2,
   "metadata": {},
   "outputs": [
    {
     "name": "stdout",
     "output_type": "stream",
     "text": [
      "('----------', 'import end', '----------')\r\n",
      "*********************************************************\r\n",
      "*********************************************************\r\n",
      "*********************************************************\r\n",
      "************ PRINT: megti -h for usage   *************\r\n",
      "*********************************************************\r\n",
      "Method 1: megti megrade.fits oldgti.fits newgti.fits\r\n",
      "Method 2: Using interactive method in prompt.\r\n"
     ]
    }
   ],
   "source": [
    "!python ./hxmt_scripts/megti.py -h"
   ]
  },
  {
   "cell_type": "markdown",
   "metadata": {},
   "source": [
    "这里提供两种输入方式：Method 1 是在命令行按顺序输入 ```megrade``` 的输出文件、```megtigen``` 的输出文件，和新的 GTI 文件的文件名；Method 2 是使用交互式运行，在执行 ```megti``` 后会提示你输入上述文件。我们以第一种执行方式为例进行演示。"
   ]
  },
  {
   "cell_type": "markdown",
   "metadata": {},
   "source": [
    "<div class=\"alert alert-block alert-info\">\n",
    "<b>NOTES:</b> 我们在这里提供该脚本，放置在 hxmt_scripts 文件夹下，故执行该脚本的方式为 python megti.py 需要注意的是，通过慧眼的软件下载网页，你能在下载的软件包中获得同样的脚本，不过在安装说明中，你可能已经设置了shell 环境的”别名“，即在shell中运行 megti 命令等效于上述的运行 megti.py 脚本。两种运行方式没有区别，我这里因为 Jupyter 不识别shell的别名，故直接执行python脚本，但本质上二者没有区别。\n",
    "</div>"
   ]
  },
  {
   "cell_type": "code",
   "execution_count": 3,
   "metadata": {
    "scrolled": true
   },
   "outputs": [
    {
     "name": "stdout",
     "output_type": "stream",
     "text": [
      "('----------', 'import end', '----------')\n",
      "*********************************************************\n",
      "*********************************************************\n",
      "*********************************************************\n",
      "************ PRINT: megti -h for usage   *************\n",
      "*********************************************************\n",
      "(array([1.78432393e+08, 1.78433313e+08, 1.78433360e+08, 1.78433467e+08,\n",
      "       1.78438215e+08, 1.78439098e+08, 1.78439107e+08, 1.78439111e+08,\n",
      "       1.78439115e+08, 1.78444099e+08]), array([1.78433299e+08, 1.78433340e+08, 1.78433419e+08, 1.78433780e+08,\n",
      "       1.78439097e+08, 1.78439106e+08, 1.78439109e+08, 1.78439113e+08,\n",
      "       1.78439462e+08, 1.78444844e+08]))\n",
      "chooseing the gradedata in the input gtifile\n",
      "(29385504, 29385504)\n",
      "('median==', -31.215000000000032)\n",
      "('loop1', 'median=', -31.215000000000032, 'Dmedian=', 1000031.215)\n",
      "('median==', -31.215000000000032)\n",
      "('loop2', 'median=', -31.215000000000032, 'Dmedian=', 0.0)\n",
      "[904.  58. 312. 881. 346. 521. 212.]\n",
      "done\n"
     ]
    }
   ],
   "source": [
    "!python ./hxmt_scripts/megti.py ./data/ME/me_grade.fits ./data/ME/me_gti.fits ./data/ME/me_gti_new.fits"
   ]
  },
  {
   "cell_type": "markdown",
   "metadata": {},
   "source": [
    "我们可以查看产生的新的 GTI 文件，命名为 me_gti_new.fits"
   ]
  },
  {
   "cell_type": "code",
   "execution_count": 2,
   "metadata": {},
   "outputs": [
    {
     "name": "stdout",
     "output_type": "stream",
     "text": [
      "./data/ME/me_gti_new.fits\r\n",
      "./data/ME/me_gti.fits\r\n"
     ]
    }
   ],
   "source": [
    "!ls -1t ./data/ME/me_gti*"
   ]
  },
  {
   "cell_type": "markdown",
   "metadata": {},
   "source": [
    "### mescreen\n",
    "接下来，我们根据 GTIs 可以筛选出该好时间段内的事例。同时我们根据探测器编号、能道、观测时间等做更严格的筛选。根据标定的情况，我们只需要选择所有”小视场“的探测器和”盲探测器“。"
   ]
  },
  {
   "cell_type": "markdown",
   "metadata": {},
   "source": [
    "我们提供了一个 Python 的小工具```hprint_detid.py```，可以输出所有探测器的编号，我们在筛选之前可以先输出各个探测器的信息，找出我们需要的ME小视场的探测器。"
   ]
  },
  {
   "cell_type": "code",
   "execution_count": 5,
   "metadata": {},
   "outputs": [
    {
     "name": "stdout",
     "output_type": "stream",
     "text": [
      "*********** Detector ID catalogue ***********\r\n",
      "--------------------------\r\n",
      "--------------------------\r\n",
      "\r\n",
      "HE detector ID for SMALL FOV (5.7x1.1):\r\n",
      "0, 1, 3, 4, 5, 6, 7, 8, 10, 11, 12, 13, 14, 15, 17\r\n",
      "\r\n",
      "HE BLIND detector ID:\r\n",
      "16\r\n",
      "\r\n",
      "HE SMALL FOV information (5.7x1.1):\r\n",
      "FOV   0: 1, 3, 8, 11, 12\r\n",
      "FOV -60: 0, 4, 7,  9, 14, 17\r\n",
      "FOV +60: 2, 5, 6, 10, 13, 15\r\n",
      "\r\n",
      "HE LARGE FOV information (5.7x5.7):\r\n",
      "2, 9\r\n",
      "--------------------------\r\n",
      "--------------------------\r\n",
      "\r\n",
      "ME ASIC ID for SMALL FOV (1x4):\r\n",
      "0-5, 7, 12-23, 25, 30-41, 43, 48-53\r\n",
      "\r\n",
      "ME BLIND ASIC ID:\r\n",
      "10, 28, 46\r\n",
      "\r\n",
      "ME ASIC ID with calibration source:\r\n",
      "6, 11, 24, 29, 42, 47\r\n",
      "\r\n",
      "ME SMALL FOV information (1x4):\r\n",
      "FOV 0:   0-5,  7, 12-17\r\n",
      "FOV 1: 18-23, 25, 30-35\r\n",
      "FOV 2: 36-41, 43, 48-53\r\n",
      "\r\n",
      "ME LARGE FOV information (4x4):\r\n",
      "8, 9, 26, 27, 44, 45\r\n",
      "--------------------------\r\n",
      "--------------------------\r\n",
      "\r\n",
      "LE detector ID for SMALL FOV (1.6x6):\r\n",
      "0,2-4,6-10,12,14,20,22-26,28,30,32,34-36,38-42,44,46,52,54-58,60-62,64,66-68,70-74,76,78,84,86,88-90,92-94\r\n",
      "\r\n",
      "LE BLIND detector ID for SMALL FOV:\r\n",
      "13, 45, 77\r\n",
      "\r\n",
      "LE BLIND detector ID for LARGE FOV (calibration source):\r\n",
      "21, 53, 85\r\n",
      "\r\n",
      "LE SMALL FOV information (1.6x6):\r\n",
      "FOV 0:  0,  2-4, 6-10,12,14,20,22-26,28-30\r\n",
      "FOV 1: 32,34-36,38-42,44,46,52,54-58,60-62\r\n",
      "FOV 2: 64,66-68,70-74,76,78,84,86-90,92-94\r\n",
      "\r\n",
      "LE LARGE FOV information (6x6):\r\n",
      "1,5,11,15,27,31,33,37,43,47,59,63,65,69,75,79,91,95\r\n",
      "--------------------------\r\n"
     ]
    }
   ],
   "source": [
    "!python ./hxmt_scripts/hprint_detid.py "
   ]
  },
  {
   "cell_type": "markdown",
   "metadata": {},
   "source": [
    "可以看到，ME 探测器小视场（small FoV）对应的编号为 0-5, 7, 12-23, 25, 30-41, 43, 48-53。我们可以继续筛选事例。```mescreen``` 有一个输入参数 ```userdetid``` 即探测器编号。这个参数的值我们选择所有小视场探测器编号，即盲探测器的编号，```userdetid=\"0-5,7,12-23,25,30-41,43,48-53;10,28,46\"``` 。 ```mescreen``` 的具体使用方式如下"
   ]
  },
  {
   "cell_type": "code",
   "execution_count": 6,
   "metadata": {},
   "outputs": [
    {
     "name": "stdout",
     "output_type": "stream",
     "text": [
      "mescreen : ##############################################\n",
      "mescreen : HXMT ME task, mescreen is running\n",
      "mescreen : PILParSet Warning: parameter 'clobber' set to yes!\n",
      "mescreen : PILParSet Warning: the file ./data/ME/me_screen.fits will be overwritten!\n",
      "mescreen : mescreen: User detector selection:\n",
      "mescreen : Bad (Bad,hot,flickening) detector List:\n",
      "mescreen :        ID:  1\n",
      "mescreen :        ID:  6\n",
      "mescreen :        ID:  8\n",
      "mescreen :        ID:  9\n",
      "mescreen :        ID:  14\n",
      "mescreen :        ID:  15\n",
      "mescreen :        ID:  16\n",
      "mescreen :        ID:  17\n",
      "mescreen :        ID:  18\n",
      "mescreen :        ID:  19\n",
      "mescreen :        ID:  20\n",
      "mescreen :        ID:  28\n",
      "mescreen :        ID:  30\n",
      "mescreen :        ID:  31\n",
      "mescreen :        ID:  32\n",
      "mescreen :        ID:  33\n",
      "mescreen :        ID:  48\n",
      "mescreen :        ID:  96\n",
      "mescreen :        ID:  97\n",
      "mescreen :        ID:  161\n",
      "mescreen :        ID:  186\n",
      "mescreen :        ID:  187\n",
      "mescreen :        ID:  188\n",
      "mescreen :        ID:  189\n",
      "mescreen :        ID:  190\n",
      "mescreen :        ID:  191\n",
      "mescreen :        ID:  192\n",
      "mescreen :        ID:  193\n",
      "mescreen :        ID:  194\n",
      "mescreen :        ID:  195\n",
      "mescreen :        ID:  196\n",
      "mescreen :        ID:  197\n",
      "mescreen :        ID:  199\n",
      "mescreen :        ID:  225\n",
      "mescreen :        ID:  249\n",
      "mescreen :        ID:  250\n",
      "mescreen :        ID:  251\n",
      "mescreen :        ID:  252\n",
      "mescreen :        ID:  253\n",
      "mescreen :        ID:  254\n",
      "mescreen :        ID:  255\n",
      "mescreen :        ID:  288\n",
      "mescreen :        ID:  289\n",
      "mescreen :        ID:  345\n",
      "mescreen :        ID:  346\n",
      "mescreen :        ID:  347\n",
      "mescreen :        ID:  348\n",
      "mescreen :        ID:  349\n",
      "mescreen :        ID:  350\n",
      "mescreen :        ID:  351\n",
      "mescreen :        ID:  352\n",
      "mescreen :        ID:  353\n",
      "mescreen :        ID:  354\n",
      "mescreen :        ID:  355\n",
      "mescreen :        ID:  356\n",
      "mescreen :        ID:  357\n",
      "mescreen :        ID:  358\n",
      "mescreen :        ID:  374\n",
      "mescreen :        ID:  375\n",
      "mescreen :        ID:  411\n",
      "mescreen :        ID:  412\n",
      "mescreen :        ID:  413\n",
      "mescreen :        ID:  414\n",
      "mescreen :        ID:  415\n",
      "mescreen :        ID:  417\n",
      "mescreen :        ID:  427\n",
      "mescreen :        ID:  436\n",
      "mescreen :        ID:  437\n",
      "mescreen :        ID:  438\n",
      "mescreen :        ID:  439\n",
      "mescreen :        ID:  446\n",
      "mescreen :        ID:  447\n",
      "mescreen :        ID:  457\n",
      "mescreen :        ID:  460\n",
      "mescreen :        ID:  461\n",
      "mescreen :        ID:  462\n",
      "mescreen :        ID:  476\n",
      "mescreen :        ID:  477\n",
      "mescreen :        ID:  480\n",
      "mescreen :        ID:  481\n",
      "mescreen :        ID:  483\n",
      "mescreen :        ID:  545\n",
      "mescreen :        ID:  589\n",
      "mescreen :        ID:  590\n",
      "mescreen :        ID:  591\n",
      "mescreen :        ID:  592\n",
      "mescreen :        ID:  593\n",
      "mescreen :        ID:  608\n",
      "mescreen :        ID:  609\n",
      "mescreen :        ID:  610\n",
      "mescreen :        ID:  611\n",
      "mescreen :        ID:  613\n",
      "mescreen :        ID:  616\n",
      "mescreen :        ID:  618\n",
      "mescreen :        ID:  619\n",
      "mescreen :        ID:  623\n",
      "mescreen :        ID:  632\n",
      "mescreen :        ID:  633\n",
      "mescreen :        ID:  634\n",
      "mescreen :        ID:  635\n",
      "mescreen :        ID:  640\n",
      "mescreen :        ID:  641\n",
      "mescreen :        ID:  642\n",
      "mescreen :        ID:  643\n",
      "mescreen :        ID:  644\n",
      "mescreen :        ID:  645\n",
      "mescreen :        ID:  646\n",
      "mescreen :        ID:  654\n",
      "mescreen :        ID:  655\n",
      "mescreen :        ID:  656\n",
      "mescreen :        ID:  664\n",
      "mescreen :        ID:  665\n",
      "mescreen :        ID:  667\n",
      "mescreen :        ID:  668\n",
      "mescreen :        ID:  669\n",
      "mescreen :        ID:  670\n",
      "mescreen :        ID:  671\n",
      "mescreen :        ID:  672\n",
      "mescreen :        ID:  673\n",
      "mescreen :        ID:  674\n",
      "mescreen :        ID:  675\n",
      "mescreen :        ID:  677\n",
      "mescreen :        ID:  696\n",
      "mescreen :        ID:  697\n",
      "mescreen :        ID:  698\n",
      "mescreen :        ID:  699\n",
      "mescreen :        ID:  700\n",
      "mescreen :        ID:  701\n",
      "mescreen :        ID:  702\n",
      "mescreen :        ID:  703\n",
      "mescreen :        ID:  736\n",
      "mescreen :        ID:  737\n",
      "mescreen :        ID:  743\n",
      "mescreen :        ID:  764\n",
      "mescreen :        ID:  765\n",
      "mescreen :        ID:  766\n",
      "mescreen :        ID:  767\n",
      "mescreen :        ID:  768\n",
      "mescreen :        ID:  769\n",
      "mescreen :        ID:  770\n",
      "mescreen :        ID:  771\n",
      "mescreen :        ID:  772\n",
      "mescreen :        ID:  773\n",
      "mescreen :        ID:  801\n",
      "mescreen :        ID:  826\n",
      "mescreen :        ID:  827\n",
      "mescreen :        ID:  828\n",
      "mescreen :        ID:  829\n",
      "mescreen :        ID:  830\n",
      "mescreen :        ID:  831\n",
      "mescreen :        ID:  864\n",
      "mescreen :        ID:  865\n",
      "mescreen :        ID:  866\n",
      "mescreen :        ID:  867\n",
      "mescreen :        ID:  872\n",
      "mescreen :        ID:  873\n",
      "mescreen :        ID:  880\n",
      "mescreen :        ID:  881\n",
      "mescreen :        ID:  882\n",
      "mescreen :        ID:  890\n",
      "mescreen :        ID:  891\n",
      "mescreen :        ID:  892\n",
      "mescreen :        ID:  893\n",
      "mescreen :        ID:  894\n",
      "mescreen :        ID:  895\n",
      "mescreen :        ID:  908\n",
      "mescreen :        ID:  909\n",
      "mescreen :        ID:  916\n",
      "mescreen :        ID:  917\n",
      "mescreen :        ID:  918\n",
      "mescreen :        ID:  919\n",
      "mescreen :        ID:  922\n",
      "mescreen :        ID:  923\n",
      "mescreen :        ID:  924\n",
      "mescreen :        ID:  925\n",
      "mescreen :        ID:  926\n",
      "mescreen :        ID:  927\n",
      "mescreen :        ID:  928\n",
      "mescreen :        ID:  929\n",
      "mescreen :        ID:  930\n",
      "mescreen :        ID:  931\n",
      "mescreen :        ID:  932\n",
      "mescreen :        ID:  933\n",
      "mescreen :        ID:  947\n",
      "mescreen :        ID:  986\n",
      "mescreen :        ID:  987\n",
      "mescreen :        ID:  988\n",
      "mescreen :        ID:  989\n",
      "mescreen :        ID:  990\n",
      "mescreen :        ID:  991\n",
      "mescreen :        ID:  992\n",
      "mescreen :        ID:  993\n",
      "mescreen :        ID:  995\n",
      "mescreen :        ID:  1002\n",
      "mescreen :        ID:  1003\n",
      "mescreen :        ID:  1028\n",
      "mescreen :        ID:  1029\n",
      "mescreen :        ID:  1030\n",
      "mescreen :        ID:  1031\n",
      "mescreen :        ID:  1052\n",
      "mescreen :        ID:  1053\n",
      "mescreen :        ID:  1056\n",
      "mescreen :        ID:  1057\n",
      "mescreen :        ID:  1067\n",
      "mescreen :        ID:  1068\n",
      "mescreen :        ID:  1069\n",
      "mescreen :        ID:  1070\n",
      "mescreen :        ID:  1071\n",
      "mescreen :        ID:  1082\n",
      "mescreen :        ID:  1083\n",
      "mescreen :        ID:  1088\n",
      "mescreen :        ID:  1119\n",
      "mescreen :        ID:  1120\n",
      "mescreen :        ID:  1121\n",
      "mescreen :        ID:  1124\n",
      "mescreen :        ID:  1125\n",
      "mescreen :        ID:  1126\n",
      "mescreen :        ID:  1127\n",
      "mescreen :        ID:  1140\n",
      "mescreen :        ID:  1141\n",
      "mescreen :        ID:  1151\n",
      "mescreen :        ID:  1160\n",
      "mescreen :        ID:  1161\n",
      "mescreen :        ID:  1183\n",
      "mescreen :        ID:  1185\n",
      "mescreen :        ID:  1200\n",
      "mescreen :        ID:  1201\n",
      "mescreen :        ID:  1240\n",
      "mescreen :        ID:  1241\n",
      "mescreen :        ID:  1248\n",
      "mescreen :        ID:  1249\n",
      "mescreen :        ID:  1252\n",
      "mescreen :        ID:  1253\n",
      "mescreen :        ID:  1262\n",
      "mescreen :        ID:  1269\n",
      "mescreen :        ID:  1270\n",
      "mescreen :        ID:  1271\n",
      "mescreen :        ID:  1272\n",
      "mescreen :        ID:  1273\n",
      "mescreen :        ID:  1301\n",
      "mescreen :        ID:  1313\n",
      "mescreen :        ID:  1324\n",
      "mescreen :        ID:  1325\n",
      "mescreen :        ID:  1337\n",
      "mescreen :        ID:  1338\n",
      "mescreen :        ID:  1339\n",
      "mescreen :        ID:  1340\n",
      "mescreen :        ID:  1341\n",
      "mescreen :        ID:  1342\n",
      "mescreen :        ID:  1343\n",
      "mescreen :        ID:  1344\n",
      "mescreen :        ID:  1345\n",
      "mescreen :        ID:  1346\n",
      "mescreen :        ID:  1347\n",
      "mescreen :        ID:  1348\n",
      "mescreen :        ID:  1349\n",
      "mescreen :        ID:  1350\n",
      "mescreen :        ID:  1373\n",
      "mescreen :        ID:  1376\n",
      "mescreen :        ID:  1377\n",
      "mescreen :        ID:  1378\n",
      "mescreen :        ID:  1380\n",
      "mescreen :        ID:  1381\n",
      "mescreen :        ID:  1402\n",
      "mescreen :        ID:  1403\n",
      "mescreen :        ID:  1404\n",
      "mescreen :        ID:  1405\n",
      "mescreen :        ID:  1406\n",
      "mescreen :        ID:  1407\n",
      "mescreen :        ID:  1440\n",
      "mescreen :        ID:  1441\n",
      "mescreen :        ID:  1471\n",
      "mescreen :        ID:  1484\n",
      "mescreen :        ID:  1485\n",
      "mescreen :        ID:  1488\n",
      "mescreen :        ID:  1491\n",
      "mescreen :        ID:  1492\n",
      "mescreen :        ID:  1496\n",
      "mescreen :        ID:  1497\n",
      "mescreen :        ID:  1498\n",
      "mescreen :        ID:  1499\n",
      "mescreen :        ID:  1500\n",
      "mescreen :        ID:  1501\n",
      "mescreen :        ID:  1502\n",
      "mescreen :        ID:  1503\n",
      "mescreen :        ID:  1504\n",
      "mescreen :        ID:  1505\n",
      "mescreen :        ID:  1506\n",
      "mescreen :        ID:  1507\n",
      "mescreen :        ID:  1508\n",
      "mescreen :        ID:  1509\n",
      "mescreen :        ID:  1510\n",
      "mescreen :        ID:  1530\n",
      "mescreen :        ID:  1532\n",
      "mescreen :        ID:  1533\n",
      "mescreen :        ID:  1534\n",
      "mescreen :        ID:  1535\n",
      "mescreen :        ID:  1550\n",
      "mescreen :        ID:  1551\n",
      "mescreen :        ID:  1556\n",
      "mescreen :        ID:  1557\n",
      "mescreen :        ID:  1558\n",
      "mescreen :        ID:  1559\n",
      "mescreen :        ID:  1563\n",
      "mescreen :        ID:  1564\n",
      "mescreen :        ID:  1565\n",
      "mescreen :        ID:  1566\n",
      "mescreen :        ID:  1567\n",
      "mescreen :        ID:  1568\n",
      "mescreen :        ID:  1569\n",
      "mescreen :        ID:  1575\n",
      "mescreen :        ID:  1599\n",
      "mescreen :        ID:  1600\n",
      "mescreen :        ID:  1601\n",
      "mescreen :        ID:  1602\n",
      "mescreen :        ID:  1603\n",
      "mescreen :        ID:  1605\n",
      "mescreen :        ID:  1628\n",
      "mescreen :        ID:  1629\n",
      "mescreen :        ID:  1630\n",
      "mescreen :        ID:  1631\n",
      "mescreen :        ID:  1632\n",
      "mescreen :        ID:  1633\n",
      "mescreen :        ID:  1634\n",
      "mescreen :        ID:  1635\n",
      "mescreen :        ID:  1636\n",
      "mescreen :        ID:  1637\n",
      "mescreen :        ID:  1638\n",
      "mescreen :        ID:  1639\n",
      "mescreen :        ID:  1645\n",
      "mescreen :        ID:  1654\n",
      "mescreen :        ID:  1655\n",
      "mescreen :        ID:  1666\n",
      "mescreen :        ID:  1667\n",
      "mescreen :        ID:  1668\n",
      "mescreen :        ID:  1669\n",
      "mescreen :        ID:  1670\n",
      "mescreen :        ID:  1671\n",
      "mescreen :        ID:  1678\n",
      "mescreen :        ID:  1679\n",
      "mescreen :        ID:  1680\n",
      "mescreen :        ID:  1681\n",
      "mescreen :        ID:  1692\n",
      "mescreen :        ID:  1693\n",
      "mescreen :        ID:  1694\n",
      "mescreen :        ID:  1695\n",
      "mescreen :        ID:  1696\n",
      "mescreen :        ID:  1697\n",
      "mescreen :        ID:  1700\n",
      "mescreen :        ID:  1701\n",
      "mescreen :        ID:  1702\n",
      "mescreen :        ID:  1703\n",
      "mescreen :        ID:  1708\n",
      "mescreen :        ID:  1709\n",
      "mescreen :        ID:  1716\n",
      "mescreen :        ID:  1717\n",
      "mescreen :        ID:  1724\n",
      "mescreen :        ID:  1725\n",
      "mescreen :        ID:  1726\n",
      "mescreen :        ID:  1727\n",
      "mescreen : Warm detector List:\n",
      "mescreen : Cold detector List:\n"
     ]
    },
    {
     "name": "stdout",
     "output_type": "stream",
     "text": [
      "[####################################################################################################][100%]\n",
      "mescreen : MEScreen task: \n",
      "mescreen : Detector ID '0' has event number :30675\n",
      "mescreen : Detector ID '1' has event number :47373\n",
      "mescreen : Detector ID '2' has event number :51318\n",
      "mescreen : Detector ID '3' has event number :48772\n",
      "mescreen : Detector ID '4' has event number :52885\n",
      "mescreen : Detector ID '5' has event number :38759\n",
      "mescreen : Detector ID '7' has event number :37019\n",
      "mescreen : Detector ID '10' has event number :20294\n",
      "mescreen : Detector ID '12' has event number :44241\n",
      "mescreen : Detector ID '13' has event number :43148\n",
      "mescreen : Detector ID '14' has event number :43662\n",
      "mescreen : Detector ID '15' has event number :43319\n",
      "mescreen : Detector ID '16' has event number :54026\n",
      "mescreen : Detector ID '17' has event number :48136\n",
      "mescreen : Detector ID '18' has event number :51227\n",
      "mescreen : Detector ID '19' has event number :35722\n",
      "mescreen : Detector ID '20' has event number :27600\n",
      "mescreen : Detector ID '21' has event number :32631\n",
      "mescreen : Detector ID '22' has event number :61240\n",
      "mescreen : Detector ID '23' has event number :46398\n",
      "mescreen : Detector ID '25' has event number :40195\n",
      "mescreen : Detector ID '28' has event number :20764\n",
      "mescreen : Detector ID '30' has event number :45648\n",
      "mescreen : Detector ID '31' has event number :43725\n",
      "mescreen : Detector ID '32' has event number :44863\n",
      "mescreen : Detector ID '33' has event number :39311\n",
      "mescreen : Detector ID '34' has event number :55417\n",
      "mescreen : Detector ID '35' has event number :38908\n",
      "mescreen : Detector ID '36' has event number :50348\n",
      "mescreen : Detector ID '37' has event number :47177\n",
      "mescreen : Detector ID '38' has event number :55720\n",
      "mescreen : Detector ID '39' has event number :39621\n",
      "mescreen : Detector ID '40' has event number :53197\n",
      "mescreen : Detector ID '41' has event number :37581\n",
      "mescreen : Detector ID '43' has event number :30158\n",
      "mescreen : Detector ID '46' has event number :15863\n",
      "mescreen : Detector ID '48' has event number :34944\n",
      "mescreen : Detector ID '49' has event number :38754\n",
      "mescreen : Detector ID '50' has event number :34069\n",
      "mescreen : Detector ID '51' has event number :29080\n",
      "mescreen : Detector ID '52' has event number :30090\n",
      "mescreen : Detector ID '53' has event number :24733\n",
      "mescreen : HXMT ME task, mescreen is running successfully!\n",
      "mescreen : ##############################################\n"
     ]
    }
   ],
   "source": [
    "!mescreen evtfile=./data/ME/me_grade.fits gtifile=./data/ME/me_gti.fits outfile=./data/ME/me_screen.fits userdetid=\"0-5,7,12-23,25,30-41,43,48-53;10,28,46\" clobber=yes "
   ]
  },
  {
   "cell_type": "markdown",
   "metadata": {},
   "source": [
    "我们输出了一个命名为 me_screen.fits 的FITS文件。"
   ]
  },
  {
   "cell_type": "code",
   "execution_count": 3,
   "metadata": {},
   "outputs": [
    {
     "name": "stdout",
     "output_type": "stream",
     "text": [
      "./data/ME/me_screen.fits\r\n"
     ]
    }
   ],
   "source": [
    "!ls ./data/ME/me_screen.fits"
   ]
  },
  {
   "cell_type": "markdown",
   "metadata": {},
   "source": [
    "### mespecgen\n",
    "产生能谱文件。我们对 me_screen.fits 文件中事例，产生其能谱。me_screen.fits 中包含了”小视场“探测器的光子以及”盲探测器“的光子，我们产生能谱的时候，只产生”小视场“探测器的光子。在选择探测器时 ```userdetid=\"0-5,7,12-23,25,30-41,43,48-53\"```。注意这里没有“盲探测器”对应的编号 10,28,46"
   ]
  },
  {
   "cell_type": "code",
   "execution_count": 7,
   "metadata": {},
   "outputs": [
    {
     "name": "stdout",
     "output_type": "stream",
     "text": [
      "mespecgen : HXMT ME task, mespecgen is running\n",
      "mespecgen : mespecgen: User detector selection:\n",
      "[####################################################################################################][100%]\n",
      "mespecgen : PILParSet Warning: parameter 'clobber' set to yes!\n",
      "mespecgen : PILParSet Warning: the file ./data/ME/me_spec_g0_0-53.pha will be overwritten!\n",
      "mespecgen : HXMT ME task, mespecgen is running successfully!\n",
      "mespecgen : ##############################################\n"
     ]
    }
   ],
   "source": [
    "!mespecgen evtfile=./data/ME/me_screen.fits outfile=./data/ME/me_spec deadfile=./data/ME/me_dtime.fits userdetid=\"0-5,7,12-23,25,30-41,43,48-53\" clobber=yes"
   ]
  },
  {
   "cell_type": "code",
   "execution_count": 8,
   "metadata": {},
   "outputs": [
    {
     "name": "stdout",
     "output_type": "stream",
     "text": [
      "./data/ME/me_spec_g0_0-53.pha\r\n"
     ]
    }
   ],
   "source": [
    "!ls ./data/ME/me_spec* "
   ]
  },
  {
   "cell_type": "markdown",
   "metadata": {},
   "source": [
    "### merspgen\n",
    "产生 ME 的响应矩阵"
   ]
  },
  {
   "cell_type": "code",
   "execution_count": 9,
   "metadata": {},
   "outputs": [
    {
     "name": "stdout",
     "output_type": "stream",
     "text": [
      "merspgen : HXMT ME task, merspgen is running\n",
      "merspgen : PILParSet Warning: parameter 'clobber' set to yes!\n",
      "merspgen : PILParSet Warning: the file ./data/ME/me_rsp.fits will be overwritten!\n",
      "merspgen : MERspGen: detector id '0' will use common ARF!\n",
      "merspgen : MERspGen: detector id '0' will use common RMF!\n",
      "merspgen : MERspGen: Attitude and Alignment correction of detector '0'  is 0.979575 !\n",
      "merspgen : MERspGen: detector id '1' will use common ARF!\n",
      "merspgen : MERspGen: detector id '1' will use common RMF!\n",
      "merspgen : MERspGen: Attitude and Alignment correction of detector '1'  is 0.979575 !\n",
      "merspgen : MERspGen: detector id '2' will use common ARF!\n",
      "merspgen : MERspGen: detector id '2' will use common RMF!\n",
      "merspgen : MERspGen: Attitude and Alignment correction of detector '2'  is 0.979575 !\n",
      "merspgen : MERspGen: detector id '3' will use common ARF!\n",
      "merspgen : MERspGen: detector id '3' will use common RMF!\n",
      "merspgen : MERspGen: Attitude and Alignment correction of detector '3'  is 0.979575 !\n",
      "merspgen : MERspGen: detector id '4' will use common ARF!\n",
      "merspgen : MERspGen: detector id '4' will use common RMF!\n",
      "merspgen : MERspGen: Attitude and Alignment correction of detector '4'  is 0.979575 !\n",
      "merspgen : MERspGen: detector id '5' will use common ARF!\n",
      "merspgen : MERspGen: detector id '5' will use common RMF!\n",
      "merspgen : MERspGen: Attitude and Alignment correction of detector '5'  is 0.979575 !\n",
      "merspgen : MERspGen: detector id '7' will use common ARF!\n",
      "merspgen : MERspGen: detector id '7' will use common RMF!\n",
      "merspgen : MERspGen: Attitude and Alignment correction of detector '7'  is 0.979575 !\n",
      "merspgen : MERspGen: detector id '12' will use common ARF!\n",
      "merspgen : MERspGen: detector id '12' will use common RMF!\n",
      "merspgen : MERspGen: Attitude and Alignment correction of detector '12'  is 0.979575 !\n",
      "merspgen : MERspGen: detector id '13' will use common ARF!\n",
      "merspgen : MERspGen: detector id '13' will use common RMF!\n",
      "merspgen : MERspGen: Attitude and Alignment correction of detector '13'  is 0.979575 !\n",
      "merspgen : MERspGen: detector id '14' will use common ARF!\n",
      "merspgen : MERspGen: detector id '14' will use common RMF!\n",
      "merspgen : MERspGen: Attitude and Alignment correction of detector '14'  is 0.979575 !\n",
      "merspgen : MERspGen: detector id '15' will use common ARF!\n",
      "merspgen : MERspGen: detector id '15' will use common RMF!\n",
      "merspgen : MERspGen: Attitude and Alignment correction of detector '15'  is 0.979575 !\n",
      "merspgen : MERspGen: detector id '16' will use common ARF!\n",
      "merspgen : MERspGen: detector id '16' will use common RMF!\n",
      "merspgen : MERspGen: Attitude and Alignment correction of detector '16'  is 0.979575 !\n",
      "merspgen : MERspGen: detector id '17' will use common ARF!\n",
      "merspgen : MERspGen: detector id '17' will use common RMF!\n",
      "merspgen : MERspGen: Attitude and Alignment correction of detector '17'  is 0.979575 !\n",
      "merspgen : MERspGen: detector id '18' will use common ARF!\n",
      "merspgen : MERspGen: detector id '18' will use common RMF!\n",
      "merspgen : MERspGen: Attitude and Alignment correction of detector '18'  is 0.992004 !\n",
      "merspgen : MERspGen: detector id '19' will use common ARF!\n",
      "merspgen : MERspGen: detector id '19' will use common RMF!\n",
      "merspgen : MERspGen: Attitude and Alignment correction of detector '19'  is 0.992004 !\n",
      "merspgen : MERspGen: detector id '20' will use common ARF!\n",
      "merspgen : MERspGen: detector id '20' will use common RMF!\n",
      "merspgen : MERspGen: Attitude and Alignment correction of detector '20'  is 0.992004 !\n",
      "merspgen : MERspGen: detector id '21' will use common ARF!\n",
      "merspgen : MERspGen: detector id '21' will use common RMF!\n",
      "merspgen : MERspGen: Attitude and Alignment correction of detector '21'  is 0.992004 !\n",
      "merspgen : MERspGen: detector id '22' will use common ARF!\n",
      "merspgen : MERspGen: detector id '22' will use common RMF!\n",
      "merspgen : MERspGen: Attitude and Alignment correction of detector '22'  is 0.992004 !\n",
      "merspgen : MERspGen: detector id '23' will use common ARF!\n",
      "merspgen : MERspGen: detector id '23' will use common RMF!\n",
      "merspgen : MERspGen: Attitude and Alignment correction of detector '23'  is 0.992004 !\n",
      "merspgen : MERspGen: detector id '25' will use common ARF!\n",
      "merspgen : MERspGen: detector id '25' will use common RMF!\n",
      "merspgen : MERspGen: Attitude and Alignment correction of detector '25'  is 0.992004 !\n",
      "merspgen : MERspGen: detector id '30' will use common ARF!\n",
      "merspgen : MERspGen: detector id '30' will use common RMF!\n",
      "merspgen : MERspGen: Attitude and Alignment correction of detector '30'  is 0.992004 !\n",
      "merspgen : MERspGen: detector id '31' will use common ARF!\n",
      "merspgen : MERspGen: detector id '31' will use common RMF!\n",
      "merspgen : MERspGen: Attitude and Alignment correction of detector '31'  is 0.992004 !\n",
      "merspgen : MERspGen: detector id '32' will use common ARF!\n",
      "merspgen : MERspGen: detector id '32' will use common RMF!\n",
      "merspgen : MERspGen: Attitude and Alignment correction of detector '32'  is 0.992004 !\n",
      "merspgen : MERspGen: detector id '33' will use common ARF!\n",
      "merspgen : MERspGen: detector id '33' will use common RMF!\n",
      "merspgen : MERspGen: Attitude and Alignment correction of detector '33'  is 0.992004 !\n",
      "merspgen : MERspGen: detector id '34' will use common ARF!\n",
      "merspgen : MERspGen: detector id '34' will use common RMF!\n",
      "merspgen : MERspGen: Attitude and Alignment correction of detector '34'  is 0.992004 !\n",
      "merspgen : MERspGen: detector id '35' will use common ARF!\n",
      "merspgen : MERspGen: detector id '35' will use common RMF!\n",
      "merspgen : MERspGen: Attitude and Alignment correction of detector '35'  is 0.992004 !\n",
      "merspgen : MERspGen: detector id '36' will use common ARF!\n",
      "merspgen : MERspGen: detector id '36' will use common RMF!\n",
      "merspgen : MERspGen: Attitude and Alignment correction of detector '36'  is 0.97818 !\n",
      "merspgen : MERspGen: detector id '37' will use common ARF!\n",
      "merspgen : MERspGen: detector id '37' will use common RMF!\n",
      "merspgen : MERspGen: Attitude and Alignment correction of detector '37'  is 0.97818 !\n",
      "merspgen : MERspGen: detector id '38' will use common ARF!\n",
      "merspgen : MERspGen: detector id '38' will use common RMF!\n",
      "merspgen : MERspGen: Attitude and Alignment correction of detector '38'  is 0.97818 !\n",
      "merspgen : MERspGen: detector id '39' will use common ARF!\n",
      "merspgen : MERspGen: detector id '39' will use common RMF!\n",
      "merspgen : MERspGen: Attitude and Alignment correction of detector '39'  is 0.97818 !\n",
      "merspgen : MERspGen: detector id '40' will use common ARF!\n",
      "merspgen : MERspGen: detector id '40' will use common RMF!\n",
      "merspgen : MERspGen: Attitude and Alignment correction of detector '40'  is 0.97818 !\n",
      "merspgen : MERspGen: detector id '41' will use common ARF!\n",
      "merspgen : MERspGen: detector id '41' will use common RMF!\n",
      "merspgen : MERspGen: Attitude and Alignment correction of detector '41'  is 0.97818 !\n",
      "merspgen : MERspGen: detector id '43' will use common ARF!\n",
      "merspgen : MERspGen: detector id '43' will use common RMF!\n",
      "merspgen : MERspGen: Attitude and Alignment correction of detector '43'  is 0.97818 !\n",
      "merspgen : MERspGen: detector id '48' will use common ARF!\n",
      "merspgen : MERspGen: detector id '48' will use common RMF!\n",
      "merspgen : MERspGen: Attitude and Alignment correction of detector '48'  is 0.97818 !\n",
      "merspgen : MERspGen: detector id '49' will use common ARF!\n",
      "merspgen : MERspGen: detector id '49' will use common RMF!\n",
      "merspgen : MERspGen: Attitude and Alignment correction of detector '49'  is 0.97818 !\n",
      "merspgen : MERspGen: detector id '50' will use common ARF!\n",
      "merspgen : MERspGen: detector id '50' will use common RMF!\n",
      "merspgen : MERspGen: Attitude and Alignment correction of detector '50'  is 0.97818 !\n",
      "merspgen : MERspGen: detector id '51' will use common ARF!\n",
      "merspgen : MERspGen: detector id '51' will use common RMF!\n",
      "merspgen : MERspGen: Attitude and Alignment correction of detector '51'  is 0.97818 !\n",
      "merspgen : MERspGen: detector id '52' will use common ARF!\n",
      "merspgen : MERspGen: detector id '52' will use common RMF!\n",
      "merspgen : MERspGen: Attitude and Alignment correction of detector '52'  is 0.97818 !\n",
      "merspgen : MERspGen: detector id '53' will use common ARF!\n",
      "merspgen : MERspGen: detector id '53' will use common RMF!\n",
      "merspgen : MERspGen: Attitude and Alignment correction of detector '53'  is 0.97818 !\n",
      "merspgen : HXMT ME task, merspgen is running successfully!\n",
      "merspgen : ##############################################\n"
     ]
    }
   ],
   "source": [
    "!merspgen phafile=./data/ME/me_spec_g0_0-53.pha outfile=./data/ME/me_rsp.fits attfile=./data/ACS/HXMT_P010129900101_Att_FFFFFF_V1_L1P.FITS ra=-1 dec=-91 clobber=yes"
   ]
  },
  {
   "cell_type": "code",
   "execution_count": 10,
   "metadata": {},
   "outputs": [
    {
     "name": "stdout",
     "output_type": "stream",
     "text": [
      "./data/ME/me_rsp.fits\r\n"
     ]
    }
   ],
   "source": [
    "!ls ./data/ME/me_rsp.fits"
   ]
  },
  {
   "cell_type": "markdown",
   "metadata": {},
   "source": [
    "### 低能载荷(LE)数据处理"
   ]
  },
  {
   "cell_type": "markdown",
   "metadata": {},
   "source": [
    "### lepical\n",
    "LE 探测器的 Pulse Invariance CALibration"
   ]
  },
  {
   "cell_type": "code",
   "execution_count": 2,
   "metadata": {},
   "outputs": [
    {
     "name": "stdout",
     "output_type": "stream",
     "text": [
      "lepical : ##############################################\n",
      "lepical : HXMT LE task, lepical is running\n",
      "[####################################################################################################][100%]\n",
      "lepical : HXMT LE task, lepical is running successfully!\n",
      "lepical : ##############################################\n"
     ]
    }
   ],
   "source": [
    "!lepical evtfile=./data/LE/HXMT_P010129900101_LE-Evt_FFFFFF_V1_L1P.FITS tempfile=./data/LE/HXMT_P010129900101_LE-TH_FFFFFF_V1_L1P.FITS outfile=./data/LE/le_pi.fits"
   ]
  },
  {
   "cell_type": "markdown",
   "metadata": {},
   "source": [
    "产生了一个命名为 le_pi.fits 的事例文件。可以查看新产生的文件"
   ]
  },
  {
   "cell_type": "code",
   "execution_count": 13,
   "metadata": {},
   "outputs": [
    {
     "name": "stdout",
     "output_type": "stream",
     "text": [
      "./data/LE/le_pi.fits\r\n"
     ]
    }
   ],
   "source": [
    "!ls ./data/LE/le_pi.fits"
   ]
  },
  {
   "cell_type": "markdown",
   "metadata": {},
   "source": [
    "### lerecon\n",
    "LE 探测器的事例重建"
   ]
  },
  {
   "cell_type": "code",
   "execution_count": 14,
   "metadata": {},
   "outputs": [
    {
     "name": "stdout",
     "output_type": "stream",
     "text": [
      "lerecon : ##############################################\n",
      "lerecon : HXMT LE task, lerecon is running\n",
      "lerecon : PILParSet Warning: parameter 'clobber' set to yes!\n",
      "lerecon : PILParSet Warning: the file ./data/LE/le_recon.fits will be overwritten!\n",
      "[####################################################################################################][100%]\n",
      "lerecon : HXMT LE task, lerecon is running successfully!\n",
      "lerecon : ##############################################\n"
     ]
    }
   ],
   "source": [
    "!lerecon evtfile=./data/LE/le_pi.fits outfile=./data/LE/le_recon.fits instatusfile=./data/LE/HXMT_P010129900101_LE-InsStat_FFFFFF_V1_L1P.FITS"
   ]
  },
  {
   "cell_type": "markdown",
   "metadata": {},
   "source": [
    "### legtigen\n",
    "产生 LE 探测器的好时间(GTIs)文件。我们推荐的好时间为```expr=\"ELV>10&&COR>8&&DYE_ELV>40&&T_SAA>=300&&TN_SAA>=300&&ANG_DIST<=0.04\"```，注意和 HE 与 ME 的好时间判选条件比起来，多了一个亮地球与卫星指向的夹角(DYE_ELV)大于40度的限制。"
   ]
  },
  {
   "cell_type": "code",
   "execution_count": 15,
   "metadata": {},
   "outputs": [
    {
     "name": "stdout",
     "output_type": "stream",
     "text": [
      "legtigen : ##############################################\n",
      "legtigen : HXMT LE task, legtigen is running\n",
      "legtigen : PILParSet Warning: parameter 'clobber' set to yes!\n",
      "legtigen : PILParSet Warning: the file ./data/LE/le_gti.fits will be overwritten!\n",
      "legtigen : legtigen: Warning: Unable to get 'EVENT' file! GTI from Noise Events(1000/500) is set to NULL!\n",
      "legtigen : HXMT LE task, legtigen is running successfully!\n",
      "legtigen : ##############################################\n"
     ]
    }
   ],
   "source": [
    "!legtigen evtfile=\"\" instatusfile=./data/LE/HXMT_P010129900101_LE-InsStat_FFFFFF_V1_L1P.FITS tempfile=./data/LE/HXMT_P010129900101_LE-TH_FFFFFF_V1_L1P.FITS ehkfile=./data/AUX/HXMT_P010129900101_HE-EHK_FFFFFF_V1_L1P.FITS outfile=./data/LE/le_gti.fits defaultexpr=\"NONE\" expr=\"ELV>10&&COR>8&&DYE_ELV>40&&T_SAA>=300&&TN_SAA>=300&&ANG_DIST<=0.04\" clobber=yes"
   ]
  },
  {
   "cell_type": "markdown",
   "metadata": {},
   "source": [
    "### legti\n",
    "类似于 ```megti```，我们在上一步 ```legtigen``` 的基础上进一步筛选出好时间段。"
   ]
  },
  {
   "cell_type": "markdown",
   "metadata": {},
   "source": [
    "同样，我们可以使用 ```-h``` 参数查看输入的参数"
   ]
  },
  {
   "cell_type": "code",
   "execution_count": 4,
   "metadata": {},
   "outputs": [
    {
     "name": "stdout",
     "output_type": "stream",
     "text": [
      "---------- import end ----------\r\n",
      "*********************************************************\r\n",
      "*********************************************************\r\n",
      "*********************************************************\r\n",
      "************ PRINT: legti -h for usage   *************\r\n",
      "*********************************************************\r\n",
      "Method 1: legti lerecon.fits oldgti.fits newgti.fits\r\n",
      "Method 2: Using interactive method in prompt.\r\n"
     ]
    }
   ],
   "source": [
    "!python ./hxmt_scripts/legti.py -h"
   ]
  },
  {
   "cell_type": "markdown",
   "metadata": {},
   "source": [
    "可以看到，我们需要按顺序输入 lerecon 的输出文件、上一步 legtigen 的输出文件，以及产生的新的GTI文件的文件名。"
   ]
  },
  {
   "cell_type": "code",
   "execution_count": 16,
   "metadata": {
    "scrolled": true
   },
   "outputs": [
    {
     "name": "stdout",
     "output_type": "stream",
     "text": [
      "('----------', 'import end', '----------')\n",
      "*********************************************************\n",
      "*********************************************************\n",
      "*********************************************************\n",
      "************ PRINT: legti -h for usage   *************\n",
      "*********************************************************\n",
      "(array([1.78432393e+08, 1.78433360e+08, 1.78433467e+08, 1.78438215e+08,\n",
      "       1.78439115e+08, 1.78444099e+08]), array([1.78433299e+08, 1.78433419e+08, 1.78433780e+08, 1.78439097e+08,\n",
      "       1.78439462e+08, 1.78444844e+08]))\n",
      "chooseing the gradedata in the input gtifile\n",
      "('factor===', 3.411764705882353)\n",
      "find the bad data\n",
      "('cri1=', 8.763341985613465)\n",
      "('loop1', 'median=', 0.6014705882352924, 'Dmedian=', 999999.3985294118)\n",
      "('cri1=', 5.573550902859161)\n",
      "('loop2', 'median=', 0.47156862745097783, 'Dmedian=', 0.1299019607843146)\n",
      "('cri1=', 5.552705605613449)\n",
      "('loop3', 'median=', 0.4580882352941176, 'Dmedian=', 0.013480392156860255)\n",
      "('cri1=', 5.552705605613449)\n",
      "('loop4', 'median=', 0.4580882352941176, 'Dmedian=', 0.0)\n",
      "[ 64. 102.  19.  13.  10. 173.  43. 412.   7.  51. 144.   1. 147.  17.\n",
      "  16. 223.  24.  43. 116. 317.  31. 104.   5.  36. 112.  10.  37.  61.\n",
      " 320.   4. 114.]\n",
      "create new gtifile\n",
      "[-18.  53. 292.  24.  27. 103.  -4. 197. -16.  -8. 200.  -6.]\n",
      "done\n"
     ]
    }
   ],
   "source": [
    "!python ./hxmt_scripts/legti.py ./data/LE/le_recon.fits ./data/LE/le_gti.fits ./data/LE/le_gti_new.fits"
   ]
  },
  {
   "cell_type": "markdown",
   "metadata": {},
   "source": [
    "可以查看，我们现在产生了一个名为 le_gti_new.fits 的好时间段文件"
   ]
  },
  {
   "cell_type": "code",
   "execution_count": 18,
   "metadata": {},
   "outputs": [
    {
     "name": "stdout",
     "output_type": "stream",
     "text": [
      "./data/LE/le_gti.fits\r\n",
      "./data/LE/le_gti_new.fits\r\n"
     ]
    }
   ],
   "source": [
    "!ls -1 ./data/LE/le_gti*"
   ]
  },
  {
   "cell_type": "markdown",
   "metadata": {},
   "source": [
    "### lescreen\n",
    "筛选出好时间段内的事例"
   ]
  },
  {
   "cell_type": "markdown",
   "metadata": {},
   "source": [
    "同样，我们根据好时间段，筛选出时间段内的事例。类似于 ME 的情况，我们这里只选择“小视场”探测器和“盲探测器”，可以查看之前 ```hprint_detid.py``` 输出的内容。LE 探测器的“小视场”和“盲探测器”其编号分别为```0,2-4,6-10,12,14,20,22-26,28,30,32,34-36,38-42,44,46,52,54-58,60-62,64,66-68,70-74,76,78,84,86,88-90,92-94```和```13,45,77,21,53,85```"
   ]
  },
  {
   "cell_type": "code",
   "execution_count": 19,
   "metadata": {},
   "outputs": [
    {
     "name": "stdout",
     "output_type": "stream",
     "text": [
      "lescreen : ##############################################\n",
      "lescreen : HXMT LE task, lescreen is running\n",
      "lescreen : PILParSet Warning: parameter 'clobber' set to yes!\n",
      "lescreen : PILParSet Warning: the file ./data/LE/le_screen.fits will be overwritten!\n",
      "lescreen : lescreen: User detector selection:\n",
      "lescreen : HxmtBadDetector Info: there is no bad detector!\n",
      "[####################################################################################################][100%]\n",
      "lescreen : LEScreen task: \n",
      "lescreen : Detector ID '0' has event number :12719\n",
      "lescreen : Detector ID '2' has event number :12532\n",
      "lescreen : Detector ID '3' has event number :12544\n",
      "lescreen : Detector ID '4' has event number :12456\n",
      "lescreen : Detector ID '6' has event number :12481\n",
      "lescreen : Detector ID '7' has event number :12497\n",
      "lescreen : Detector ID '8' has event number :12744\n",
      "lescreen : Detector ID '9' has event number :12915\n",
      "lescreen : Detector ID '10' has event number :12257\n",
      "lescreen : Detector ID '12' has event number :12882\n",
      "lescreen : Detector ID '13' has event number :145\n",
      "lescreen : Detector ID '14' has event number :12100\n",
      "lescreen : Detector ID '20' has event number :12532\n",
      "lescreen : Detector ID '21' has event number :959\n",
      "lescreen : Detector ID '22' has event number :12607\n",
      "lescreen : Detector ID '23' has event number :12781\n",
      "lescreen : Detector ID '24' has event number :12978\n",
      "lescreen : Detector ID '25' has event number :12397\n",
      "lescreen : Detector ID '26' has event number :12396\n",
      "lescreen : Detector ID '28' has event number :12768\n",
      "lescreen : Detector ID '30' has event number :12464\n",
      "lescreen : Detector ID '32' has event number :12612\n",
      "lescreen : Detector ID '34' has event number :12174\n",
      "lescreen : Detector ID '35' has event number :12420\n",
      "lescreen : Detector ID '36' has event number :12779\n",
      "lescreen : Detector ID '38' has event number :12511\n",
      "lescreen : Detector ID '39' has event number :12811\n",
      "lescreen : Detector ID '40' has event number :11972\n",
      "lescreen : Detector ID '41' has event number :12596\n",
      "lescreen : Detector ID '42' has event number :12448\n",
      "lescreen : Detector ID '44' has event number :12345\n",
      "lescreen : Detector ID '45' has event number :120\n",
      "lescreen : Detector ID '46' has event number :12678\n",
      "lescreen : Detector ID '52' has event number :12261\n",
      "lescreen : Detector ID '53' has event number :728\n",
      "lescreen : Detector ID '54' has event number :12406\n",
      "lescreen : Detector ID '55' has event number :12387\n",
      "lescreen : Detector ID '56' has event number :12638\n",
      "lescreen : Detector ID '57' has event number :12625\n",
      "lescreen : Detector ID '58' has event number :12919\n",
      "lescreen : Detector ID '60' has event number :12322\n",
      "lescreen : Detector ID '61' has event number :12595\n",
      "lescreen : Detector ID '62' has event number :12567\n",
      "lescreen : Detector ID '64' has event number :12215\n",
      "lescreen : Detector ID '66' has event number :12423\n",
      "lescreen : Detector ID '67' has event number :12471\n",
      "lescreen : Detector ID '68' has event number :12444\n",
      "lescreen : Detector ID '70' has event number :12580\n",
      "lescreen : Detector ID '71' has event number :12196\n",
      "lescreen : Detector ID '72' has event number :12130\n",
      "lescreen : Detector ID '73' has event number :12176\n",
      "lescreen : Detector ID '74' has event number :12307\n",
      "lescreen : Detector ID '76' has event number :12267\n",
      "lescreen : Detector ID '77' has event number :147\n",
      "lescreen : Detector ID '78' has event number :12664\n",
      "lescreen : Detector ID '84' has event number :12140\n",
      "lescreen : Detector ID '85' has event number :811\n",
      "lescreen : Detector ID '86' has event number :12388\n",
      "lescreen : Detector ID '88' has event number :11913\n",
      "lescreen : Detector ID '89' has event number :12449\n",
      "lescreen : Detector ID '90' has event number :12552\n",
      "lescreen : Detector ID '92' has event number :12339\n",
      "lescreen : Detector ID '93' has event number :12333\n",
      "lescreen : Detector ID '94' has event number :12142\n",
      "lescreen : HXMT LE task, lescreen is running successfully!\n",
      "lescreen : ##############################################\n"
     ]
    }
   ],
   "source": [
    "!lescreen evtfile=./data/LE/le_recon.fits gtifile=./data/LE/le_gti_new.fits outfile=./data/LE/le_screen.fits userdetid=\"0,2-4,6-10,12,14,20,22-26,28,30,32,34-36,38-42,44,46,52,54-58,60-62,64,66-68,70-74,76,78,84,86,88-90,92-94,13,45,77,21,53,85\" clobber=yes"
   ]
  },
  {
   "cell_type": "markdown",
   "metadata": {},
   "source": [
    "我们成功产生了一个名为 le_screen.fits 的FITS文件"
   ]
  },
  {
   "cell_type": "code",
   "execution_count": 5,
   "metadata": {},
   "outputs": [
    {
     "name": "stdout",
     "output_type": "stream",
     "text": [
      "./data/LE/le_screen.fits\r\n"
     ]
    }
   ],
   "source": [
    "!ls ./data/LE/le_screen.fits"
   ]
  },
  {
   "cell_type": "markdown",
   "metadata": {},
   "source": [
    "### lespecgen\n",
    "产生 LE 探测器的能谱"
   ]
  },
  {
   "cell_type": "markdown",
   "metadata": {},
   "source": [
    "我们产生能谱时，仅选择小视场探测器，```userdetid=\"0,2-4,6-10,12,14,20,22-26,28,30,32,34-36,38-42,44,46,52,54-58,60-62,64,66-68,70-74,76,78,84,86,88-90,92-94\"```"
   ]
  },
  {
   "cell_type": "code",
   "execution_count": 20,
   "metadata": {},
   "outputs": [
    {
     "name": "stdout",
     "output_type": "stream",
     "text": [
      "lespecgen : HXMT LE task, lespecgen is running\n",
      "[####################################################################################################][100%]\n",
      "lespecgen : PILParSet Warning: parameter 'clobber' set to yes!\n",
      "lespecgen : PILParSet Warning: the file ./data/LE/le_spec_g0_0-94.pha will be overwritten!\n",
      "lespecgen : HXMT LE task, lespecgen is running successfully!\n",
      "lespecgen : ##############################################\n"
     ]
    }
   ],
   "source": [
    "!lespecgen evtfile=./data/LE/le_screen.fits outfile=./data/LE/le_spec userdetid=\"0,2-4,6-10,12,14,20,22-26,28,30,32,34-36,38-42,44,46,52,54-58,60-62,64,66-68,70-74,76,78,84,86,88-90,92-94\" eventtype=1 clobber=yes"
   ]
  },
  {
   "cell_type": "markdown",
   "metadata": {},
   "source": [
    "### lerspgen\n",
    "产生 LE 的响应矩阵"
   ]
  },
  {
   "cell_type": "code",
   "execution_count": 21,
   "metadata": {},
   "outputs": [
    {
     "name": "stdout",
     "output_type": "stream",
     "text": [
      "lerspgen : HXMT LE task, lerspgen is running\n",
      "lerspgen : PILParSet Warning: parameter 'clobber' set to yes!\n",
      "lerspgen : PILParSet Warning: the file ./data/LE/le_rsp.fits will be overwritten!\n",
      "lerspgen : LERspGen: Attitude and Alignment correction of detector '0'  is 0.993464 !\n",
      "lerspgen : LERspGen: Attitude and Alignment correction of detector '2'  is 0.993464 !\n",
      "lerspgen : LERspGen: Attitude and Alignment correction of detector '3'  is 0.993464 !\n",
      "lerspgen : LERspGen: Attitude and Alignment correction of detector '4'  is 0.993464 !\n",
      "lerspgen : LERspGen: Attitude and Alignment correction of detector '6'  is 0.993464 !\n",
      "lerspgen : LERspGen: Attitude and Alignment correction of detector '7'  is 0.993464 !\n",
      "lerspgen : LERspGen: Attitude and Alignment correction of detector '8'  is 0.993464 !\n",
      "lerspgen : LERspGen: Attitude and Alignment correction of detector '9'  is 0.993464 !\n",
      "lerspgen : LERspGen: Attitude and Alignment correction of detector '10'  is 0.993464 !\n",
      "lerspgen : LERspGen: Attitude and Alignment correction of detector '12'  is 0.993464 !\n",
      "lerspgen : LERspGen: Attitude and Alignment correction of detector '14'  is 0.993464 !\n",
      "lerspgen : LERspGen: Attitude and Alignment correction of detector '20'  is 0.993464 !\n",
      "lerspgen : LERspGen: Attitude and Alignment correction of detector '22'  is 0.993464 !\n",
      "lerspgen : LERspGen: Attitude and Alignment correction of detector '23'  is 0.993464 !\n",
      "lerspgen : LERspGen: Attitude and Alignment correction of detector '24'  is 0.993464 !\n",
      "lerspgen : LERspGen: Attitude and Alignment correction of detector '25'  is 0.993464 !\n",
      "lerspgen : LERspGen: Attitude and Alignment correction of detector '26'  is 0.993464 !\n",
      "lerspgen : LERspGen: Attitude and Alignment correction of detector '28'  is 0.993464 !\n",
      "lerspgen : LERspGen: Attitude and Alignment correction of detector '30'  is 0.993464 !\n",
      "lerspgen : LERspGen: Attitude and Alignment correction of detector '32'  is 0.997275 !\n",
      "lerspgen : LERspGen: Attitude and Alignment correction of detector '34'  is 0.997275 !\n",
      "lerspgen : LERspGen: Attitude and Alignment correction of detector '35'  is 0.997275 !\n",
      "lerspgen : LERspGen: Attitude and Alignment correction of detector '36'  is 0.997275 !\n",
      "lerspgen : LERspGen: Attitude and Alignment correction of detector '38'  is 0.997275 !\n",
      "lerspgen : LERspGen: Attitude and Alignment correction of detector '39'  is 0.997275 !\n",
      "lerspgen : LERspGen: Attitude and Alignment correction of detector '40'  is 0.997275 !\n",
      "lerspgen : LERspGen: Attitude and Alignment correction of detector '41'  is 0.997275 !\n",
      "lerspgen : LERspGen: Attitude and Alignment correction of detector '42'  is 0.997275 !\n",
      "lerspgen : LERspGen: Attitude and Alignment correction of detector '44'  is 0.997275 !\n",
      "lerspgen : LERspGen: Attitude and Alignment correction of detector '46'  is 0.997275 !\n",
      "lerspgen : LERspGen: Attitude and Alignment correction of detector '52'  is 0.997275 !\n",
      "lerspgen : LERspGen: Attitude and Alignment correction of detector '54'  is 0.997275 !\n",
      "lerspgen : LERspGen: Attitude and Alignment correction of detector '55'  is 0.997275 !\n",
      "lerspgen : LERspGen: Attitude and Alignment correction of detector '56'  is 0.997275 !\n",
      "lerspgen : LERspGen: Attitude and Alignment correction of detector '57'  is 0.997275 !\n",
      "lerspgen : LERspGen: Attitude and Alignment correction of detector '58'  is 0.997275 !\n",
      "lerspgen : LERspGen: Attitude and Alignment correction of detector '60'  is 0.997275 !\n",
      "lerspgen : LERspGen: Attitude and Alignment correction of detector '61'  is 0.997275 !\n",
      "lerspgen : LERspGen: Attitude and Alignment correction of detector '62'  is 0.997275 !\n",
      "lerspgen : LERspGen: Attitude and Alignment correction of detector '64'  is 0.993867 !\n",
      "lerspgen : LERspGen: Attitude and Alignment correction of detector '66'  is 0.993867 !\n",
      "lerspgen : LERspGen: Attitude and Alignment correction of detector '67'  is 0.993867 !\n",
      "lerspgen : LERspGen: Attitude and Alignment correction of detector '68'  is 0.993867 !\n",
      "lerspgen : LERspGen: Attitude and Alignment correction of detector '70'  is 0.993867 !\n",
      "lerspgen : LERspGen: Attitude and Alignment correction of detector '71'  is 0.993867 !\n",
      "lerspgen : LERspGen: Attitude and Alignment correction of detector '72'  is 0.993867 !\n",
      "lerspgen : LERspGen: Attitude and Alignment correction of detector '73'  is 0.993867 !\n",
      "lerspgen : LERspGen: Attitude and Alignment correction of detector '74'  is 0.993867 !\n",
      "lerspgen : LERspGen: Attitude and Alignment correction of detector '76'  is 0.993867 !\n",
      "lerspgen : LERspGen: Attitude and Alignment correction of detector '78'  is 0.993867 !\n",
      "lerspgen : LERspGen: Attitude and Alignment correction of detector '84'  is 0.993867 !\n",
      "lerspgen : LERspGen: Attitude and Alignment correction of detector '86'  is 0.993867 !\n",
      "lerspgen : LERspGen: Attitude and Alignment correction of detector '88'  is 0.993867 !\n",
      "lerspgen : LERspGen: Attitude and Alignment correction of detector '89'  is 0.993867 !\n",
      "lerspgen : LERspGen: Attitude and Alignment correction of detector '90'  is 0.993867 !\n",
      "lerspgen : LERspGen: Attitude and Alignment correction of detector '92'  is 0.993867 !\n",
      "lerspgen : LERspGen: Attitude and Alignment correction of detector '93'  is 0.993867 !\n",
      "lerspgen : LERspGen: Attitude and Alignment correction of detector '94'  is 0.993867 !\n",
      "lerspgen : HXMT LE task, lerspgen is running successfully!\n",
      "lerspgen : ##############################################\n"
     ]
    }
   ],
   "source": [
    "!lerspgen phafile=./data/LE/le_spec_g0_0-94.pha outfile=./data/LE/le_rsp.fits attfile=./data/ACS/HXMT_P010129900101_Att_FFFFFF_V1_L1P.FITS tempfile=./data/LE/HXMT_P010129900101_LE-TH_FFFFFF_V1_L1P.FITS ra=-1 dec=-91 clobber=yes"
   ]
  },
  {
   "cell_type": "markdown",
   "metadata": {},
   "source": [
    "***"
   ]
  },
  {
   "cell_type": "markdown",
   "metadata": {},
   "source": [
    "至此，我们完成了 HE, ME, LE 全部的数据预处理工作，我们产生了经过筛选的事例文件、能谱文件、响应文件，基于这些我们可以开展我们的数据分析。"
   ]
  },
  {
   "cell_type": "markdown",
   "metadata": {},
   "source": [
    "## 计时分析\n",
    "我们在这一节将使用 Crab 的星历折叠出 Crab 脉冲星的脉冲轮。具体的步骤有：\n",
    "* 太阳系质心修正 （hxbary）\n",
    "* 根据 Crab 星历计算光子的脉冲相位\n",
    "* 对相位做直方图，产生脉冲轮廓"
   ]
  },
  {
   "cell_type": "markdown",
   "metadata": {},
   "source": [
    "<div class=\"alert alert-block alert-info\">\n",
    "<b>NOTES:</b> 我们这一节涉及到的一些数据处理，包括计算脉冲相位、产生轮廓等步骤，我们是自己编写 Python 程序计算完成的，我们会简述计算的公式，并提供这些 Python 程序在 hxmt_scripts 路径下。但你也完全可以根据自己的需求自己撰写程序。\n",
    "</div>"
   ]
  },
  {
   "cell_type": "markdown",
   "metadata": {},
   "source": [
    "### hxbary 太阳系质心修正\n",
    "将探测器记录到的光子到达时间转换到太阳系质心。我们使用 HXMTDAS 中的计算工具```hxbary```。我们的输入是事例文件，输出是在该文件中加入一列```TDB```"
   ]
  },
  {
   "cell_type": "code",
   "execution_count": 2,
   "metadata": {},
   "outputs": [
    {
     "name": "stdout",
     "output_type": "stream",
     "text": [
      "*************** hxbary is running ****************\n",
      "Task:hxbary, version:0.0.1 is running\n",
      "                                                   \n",
      "                                                   \n",
      "***************************************************\n",
      "**************User Selection***********************\n",
      "---Event file:./data/HE/he_screen.fits---\n",
      "---Orbit file name:./data/ACS/HXMT_P010129900101_Orbit_FFFFFF_V1_L1P.FITS---\n",
      "***************************************************\n",
      "                                                   \n",
      "                                                   \n",
      "Reading timefile\n",
      "Finish reading timefile\n",
      "col:3\n",
      "Finish reading orbitfile\n",
      "reading Ephermeris /Users/tuoyouli/Documents/hxmtsoft_v2.01/hxmtsoftv2.01_install/x86_64-apple-darwin18.5.0/refdata/DE405.1950.2050\n",
      "1 5\n",
      "2 5\n",
      "3 5\n",
      "4 5\n",
      "5 5\n",
      "nelem 4213549 4213549\n",
      "********** hxbary: Exit with success! ************\n"
     ]
    }
   ],
   "source": [
    "!hxbary evtfile=./data/HE/he_screen.fits orbitfile=./data/ACS/HXMT_P010129900101_Orbit_FFFFFF_V1_L1P.FITS ra=83.63322083 dec=22.01446111111 eph=2 clobber=yes"
   ]
  },
  {
   "cell_type": "markdown",
   "metadata": {},
   "source": [
    "我们对 HE 的事例文件 he_screen.fits 做了太阳系质心修正，输入参数 ```orbitfile``` 是轨道文件，```ra```,```dec```是该源的赤经赤纬，```eph=2``` 是使用 DE405 的太阳系质心星历。我们同样对 ME 和 LE 的事例文件做太阳系质心修正"
   ]
  },
  {
   "cell_type": "code",
   "execution_count": 3,
   "metadata": {},
   "outputs": [
    {
     "name": "stdout",
     "output_type": "stream",
     "text": [
      "*************** hxbary is running ****************\n",
      "Task:hxbary, version:0.0.1 is running\n",
      "                                                   \n",
      "                                                   \n",
      "***************************************************\n",
      "**************User Selection***********************\n",
      "---Event file:./data/ME/me_screen.fits---\n",
      "---Orbit file name:./data/ACS/HXMT_P010129900101_Orbit_FFFFFF_V1_L1P.FITS---\n",
      "***************************************************\n",
      "                                                   \n",
      "                                                   \n",
      "Reading timefile\n",
      "Finish reading timefile\n",
      "col:3\n",
      "Finish reading orbitfile\n",
      "reading Ephermeris /Users/tuoyouli/Documents/hxmtsoft_v2.01/hxmtsoftv2.01_install/x86_64-apple-darwin18.5.0/refdata/DE405.1950.2050\n",
      "1 2\n",
      "2 2\n",
      "nelem 1708611 1708611\n",
      "********** hxbary: Exit with success! ************\n"
     ]
    }
   ],
   "source": [
    "!hxbary evtfile=./data/ME/me_screen.fits orbitfile=./data/ACS/HXMT_P010129900101_Orbit_FFFFFF_V1_L1P.FITS ra=83.63322083 dec=22.01446111111 eph=2 clobber=yes"
   ]
  },
  {
   "cell_type": "code",
   "execution_count": 4,
   "metadata": {},
   "outputs": [
    {
     "name": "stdout",
     "output_type": "stream",
     "text": [
      "*************** hxbary is running ****************\n",
      "Task:hxbary, version:0.0.1 is running\n",
      "                                                   \n",
      "                                                   \n",
      "***************************************************\n",
      "**************User Selection***********************\n",
      "---Event file:./data/LE/le_screen.fits---\n",
      "---Orbit file name:./data/ACS/HXMT_P010129900101_Orbit_FFFFFF_V1_L1P.FITS---\n",
      "***************************************************\n",
      "                                                   \n",
      "                                                   \n",
      "Reading timefile\n",
      "Finish reading timefile\n",
      "col:3\n",
      "Finish reading orbitfile\n",
      "reading Ephermeris /Users/tuoyouli/Documents/hxmtsoft_v2.01/hxmtsoftv2.01_install/x86_64-apple-darwin18.5.0/refdata/DE405.1950.2050\n",
      "1 1\n",
      "nelem 775608 775608\n",
      "********** hxbary: Exit with success! ************\n"
     ]
    }
   ],
   "source": [
    "!hxbary evtfile=./data/LE/le_screen.fits orbitfile=./data/ACS/HXMT_P010129900101_Orbit_FFFFFF_V1_L1P.FITS ra=83.63322083 dec=22.01446111111 eph=2 clobber=yes"
   ]
  },
  {
   "cell_type": "markdown",
   "metadata": {},
   "source": [
    "### 计算光子的脉冲相位\n",
    "文件夹中有一个星历文件 ```Crab_ephemeris.par```，该文件中记录了在该数据覆盖的时间段内，Crab 脉冲星的守时参数，周期($f_0$),周期一阶导数($f_1$),周期二阶导数($f_3$)。我们可以我们计算光子的相位 $\\phi$:\n",
    "<br><br>$\\phi = f_0(t-t_0) + \\frac{1}{2}f_1(t-t_0) + \\frac{1}{6}f_2(t-t_0)$,\n",
    "<br><br>其中 $t_0$ 是星历文件中的时间参考点 PEPOCH=57979.425942180467246 (MJD)\n",
    "<br> 下面我们使用脚本 ```hphase_cal.py``` 计算相位。先用 ```-h``` 查看使用说明"
   ]
  },
  {
   "cell_type": "code",
   "execution_count": 5,
   "metadata": {},
   "outputs": [
    {
     "name": "stdout",
     "output_type": "stream",
     "text": [
      "#############\r\n",
      "\r\n",
      "EXAMPLE: python hphase_cal.py evtfile=eventfile.FITS parfile=ephemeris.par\r\n",
      "\r\n",
      "    evtfile: The Event file containing the column of the Barycenter corrected time\r\n",
      "    parfile: The name of ephemeris file\r\n",
      "    colname(default argument): The column name of Barycenter corrected time(the default value is \"TDB\"\r\n",
      "    instrument(default argument): The name of Instrument(HXMT/FERMI) (the default value is \"HXMT\")\r\n",
      "\r\n",
      "############\r\n"
     ]
    }
   ],
   "source": [
    "!python ./hxmt_scripts/hphase_cal.py -h"
   ]
  },
  {
   "cell_type": "code",
   "execution_count": 7,
   "metadata": {
    "scrolled": true
   },
   "outputs": [
    {
     "name": "stdout",
     "output_type": "stream",
     "text": [
      "...finish reading ephemeris file...\n",
      "...processing...\n",
      "...adding a column to event file...\n",
      "...Success...\n"
     ]
    }
   ],
   "source": [
    "!python ./hxmt_scripts/hphase_cal.py evtfile=./data/HE/he_screen.fits parfile=Crab_ephemeris.par"
   ]
  },
  {
   "cell_type": "markdown",
   "metadata": {},
   "source": [
    "我们可以使用 ftools 中的工具 ```fstruct``` 查看 he_screen.fits，可以看到在最后一列增加了 Phase 一列"
   ]
  },
  {
   "cell_type": "code",
   "execution_count": 8,
   "metadata": {},
   "outputs": [
    {
     "name": "stdout",
     "output_type": "stream",
     "text": [
      "  No. Type     EXTNAME      BITPIX Dimensions(columns)      PCOUNT  GCOUNT\r\n",
      " \r\n",
      "   0  PRIMARY                  8     0                           0    1\r\n",
      "   1  BINTABLE HEEvt           8     34(10) 4213549              0    1\r\n",
      " \r\n",
      "      Column Name                Format     Dims       Units     TLMIN  TLMAX\r\n",
      "      1 Time                       1D                  s\r\n",
      "      2 Det_ID                     1B                  det id\r\n",
      "      3 Channel                    1B                  chan\r\n",
      "      4 Pulse_Width                1B                  width\r\n",
      "      5 ACD                        18X                 acd\r\n",
      "      6 Event_Type                 1B                  eventtype\r\n",
      "      7 Flag                       1B                  flag\r\n",
      "      8 PI                         1I                  chan\r\n",
      "      9 TDB                        D\r\n",
      "     10 Phase                      1D\r\n",
      " \r\n",
      "   2  BINTABLE GTI0            8     16(2) 10                    0    1\r\n",
      " \r\n",
      "      Column Name                Format     Dims       Units     TLMIN  TLMAX\r\n",
      "      1 START                      1D                  s\r\n",
      "      2 STOP                       1D                  s\r\n",
      " \r\n",
      "   3  BINTABLE GTIDesc         8     14(7) 18                    0    1\r\n",
      " \r\n",
      "      Column Name                Format     Dims       Units     TLMIN  TLMAX\r\n",
      "      1 ID                         1I                  id\r\n",
      "      2 GTIID                      1B                  id for GTI\r\n",
      "      3 TYPE                       1B                  bad/warm/cold/good\r\n",
      "      4 EXPO                       1E                  corrected expo\r\n",
      "      5 DEADEXPO                   1E                  dead expo\r\n",
      "      6 PIXEL                      1B                  pixel num\r\n",
      "      7 PIXELSTATUS                1X                  pixel status\r\n",
      " \r\n"
     ]
    }
   ],
   "source": [
    "!fstruct ./data/HE/he_screen.fits"
   ]
  },
  {
   "cell_type": "markdown",
   "metadata": {},
   "source": [
    "同样的，我们对 ME，LE 的事例文件计算光子的相位"
   ]
  },
  {
   "cell_type": "code",
   "execution_count": 9,
   "metadata": {},
   "outputs": [
    {
     "name": "stdout",
     "output_type": "stream",
     "text": [
      "...finish reading ephemeris file...\n",
      "...processing...\n",
      "...adding a column to event file...\n",
      "...Success...\n",
      "...finish reading ephemeris file...\n",
      "...processing...\n",
      "...adding a column to event file...\n",
      "...Success...\n"
     ]
    }
   ],
   "source": [
    "!python ./hxmt_scripts/hphase_cal.py evtfile=./data/ME/me_screen.fits parfile=Crab_ephemeris.par\n",
    "!python ./hxmt_scripts/hphase_cal.py evtfile=./data/LE/le_screen.fits parfile=Crab_ephemeris.par"
   ]
  },
  {
   "cell_type": "markdown",
   "metadata": {},
   "source": [
    "我们计算了每个光子的相位，下面我们读取数据，画出脉冲轮廓\n",
    "### 产生脉冲轮廓\n",
    "我们使用 Python 读取 Phase 那一列数据，画出脉冲轮廓"
   ]
  },
  {
   "cell_type": "code",
   "execution_count": 36,
   "metadata": {},
   "outputs": [
    {
     "data": {
      "image/png": "[encoded data removed]",
      "text/plain": [
       "<Figure size 432x288 with 1 Axes>"
      ]
     },
     "metadata": {
      "needs_background": "light"
     },
     "output_type": "display_data"
    }
   ],
   "source": [
    "from astropy.io import fits\n",
    "import matplotlib.pyplot as plt\n",
    "import numpy as np\n",
    "\n",
    "# 读取 HE,ME,LE 的数据\n",
    "phase = np.array([])\n",
    "for filename in [\"./data/HE/he_screen.fits\",\"./data/ME/me_screen.fits\",\"./data/LE/le_screen.fits\"]:\n",
    "    hdulist = fits.open(\"./data/HE/he_screen.fits\")\n",
    "    phase = np.append(phase, hdulist[1].data.field(\"Phase\")) #读取Phase\n",
    "    \n",
    "phi = np.arange(0,1.99,0.01)[0:-1]\n",
    "counts,*_ = np.histogram(phase,bins=np.arange(0,1,0.01))\n",
    "counts = np.append(counts,counts) #产生两个周期\n",
    "plt.plot(phi,counts)\n",
    "plt.xlabel(\"$\\phi$\")\n",
    "plt.ylabel(\"counts\")\n",
    "plt.axvline(x=0.6,ls='dotted')\n",
    "plt.axvline(x=0.8,ls='dotted')\n",
    "plt.show()"
   ]
  },
  {
   "cell_type": "markdown",
   "metadata": {},
   "source": [
    "我们得到了 Crab 脉冲星的双峰轮廓。在做相位分解谱的过程中，我们选择轮廓中“非脉冲相位”的光子作为背景（上图中的0.6-0.8相位），下面开始我们的能谱分析"
   ]
  },
  {
   "cell_type": "markdown",
   "metadata": {},
   "source": [
    "***"
   ]
  },
  {
   "cell_type": "markdown",
   "metadata": {},
   "source": [
    "## 能谱分析\n",
    "我们这一节产生相位分解谱。我们根据上一步产生的轮廓，我们\n",
    "* 选取“非脉冲相位”光子（0.6-0.8）产生背景能谱\n",
    "* 产生各个相位的能谱\n",
    "* 拟合能谱"
   ]
  },
  {
   "cell_type": "markdown",
   "metadata": {},
   "source": [
    "### 产生“非脉冲相位”光子的能谱\n",
    "我们选取相位值在0.6-0.8的光子，并产生能谱，作为背景"
   ]
  },
  {
   "cell_type": "code",
   "execution_count": 39,
   "metadata": {},
   "outputs": [],
   "source": [
    "!fselect ./data/LE/le_screen.fits ./data/LE/le_screen_phase_0.6-0.8.fits expr=\"Phase>=0.6&&Phase<0.8\" clobber=yes"
   ]
  },
  {
   "cell_type": "code",
   "execution_count": 40,
   "metadata": {},
   "outputs": [
    {
     "name": "stdout",
     "output_type": "stream",
     "text": [
      "./data/LE/le_screen_phase_0.6-0.8.fits\r\n"
     ]
    }
   ],
   "source": [
    "!ls ./data/LE/le_screen_phase_0.6-0.8.fits"
   ]
  },
  {
   "cell_type": "code",
   "execution_count": 59,
   "metadata": {},
   "outputs": [],
   "source": [
    "from hxmt_scripts.create_LE_specfile import create_LE_specfile\n",
    "hdulist = fits.open(\"./data/LE/le_screen_phase_0.6-0.8.fits\")\n",
    "PI = hdulist[1].data.field(\"PI\")\n",
    "# 该能谱的曝光时间为总曝光时间的1/5，因为光子为总相位的1/5，\n",
    "# 我们计算exposure时应除以5\n",
    "exposure = hdulist[1].header[\"exposure\"]/5\n",
    "hdulist.close()\n",
    "# 产生 LE 的能谱的计数\n",
    "counts,*_ = np.histogram(PI, bins=np.arange(0,1536,1))\n",
    "error = np.sqrt(counts)\n",
    "outfile = \"./data/LE/le_spec_phase_bkg.pha\"\n",
    "create_LE_specfile(exposure,counts,error,outfile)\n",
    "# 我们使用 fparkey 工具修改能谱文件中曝光时间的值\n",
    "fparkey_cmd = \"fparkey %s %s EXPOSURE\"%(str(exposure),outfile)\n",
    "!{fparkey_cmd}"
   ]
  },
  {
   "cell_type": "markdown",
   "metadata": {},
   "source": [
    "我们可以查看我们的输出文件 le_spec_phase_bkg.pha"
   ]
  },
  {
   "cell_type": "code",
   "execution_count": 51,
   "metadata": {},
   "outputs": [
    {
     "data": {
      "image/png": "[encoded data removed]",
      "text/plain": [
       "<Figure size 432x288 with 1 Axes>"
      ]
     },
     "metadata": {
      "needs_background": "light"
     },
     "output_type": "display_data"
    }
   ],
   "source": [
    "hdulist = fits.open(\"./data/LE/le_spec_phase_bkg.pha\");\n",
    "channel = hdulist[1].data.field(\"channel\");\n",
    "counts  = hdulist[1].data.field(\"counts\");\n",
    "errors  = hdulist[1].data.field(\"STAT_ERR\");\n",
    "plt.errorbar(channel, counts, yerr=errors);\n",
    "plt.show()"
   ]
  },
  {
   "cell_type": "markdown",
   "metadata": {},
   "source": [
    "### 产生各相位的能谱\n",
    "类似的，我们将完整的相位0-1，分成5个相位区间。产生每个区间的事例文件，产生对应的能谱，并修改能谱文件的曝光时间"
   ]
  },
  {
   "cell_type": "code",
   "execution_count": 61,
   "metadata": {},
   "outputs": [],
   "source": [
    "!fselect ./data/LE/le_screen.fits ./data/LE/le_screen_phase_0.0-0.2.fits expr=\"Phase>=0.0&&Phase<0.2\" clobber=yes\n",
    "hdulist = fits.open(\"./data/LE/le_screen_phase_0.0-0.2.fits\")\n",
    "PI = hdulist[1].data.field(\"PI\")\n",
    "exposure = hdulist[1].header[\"exposure\"]/5\n",
    "hdulist.close()\n",
    "# 产生 LE 的能谱的计数\n",
    "counts,*_ = np.histogram(PI, bins=np.arange(0,1536,1))\n",
    "error = np.sqrt(counts)\n",
    "outfile = \"./data/LE/le_spec_phase_0.0-0.2.pha\"\n",
    "create_LE_specfile(exposure,counts,error,outfile)\n",
    "# 我们使用 fparkey 工具修改能谱文件中曝光时间的值\n",
    "fparkey_cmd = \"fparkey %s %s EXPOSURE\"%(str(exposure),outfile)\n",
    "!{fparkey_cmd}\n",
    "#-------------------------------\n",
    "\n",
    "\n",
    "!fselect ./data/LE/le_screen.fits ./data/LE/le_screen_phase_0.2-0.4.fits expr=\"Phase>=0.2&&Phase<0.4\" clobber=yes\n",
    "hdulist = fits.open(\"./data/LE/le_screen_phase_0.2-0.4.fits\")\n",
    "PI = hdulist[1].data.field(\"PI\")\n",
    "# 该能谱的曝光时间为总曝光时间的1/5，因为光子为总相位的1/5，\n",
    "# 我们计算exposure时应除以5\n",
    "exposure = hdulist[1].header[\"exposure\"]/5\n",
    "hdulist.close()\n",
    "# 产生 LE 的能谱的计数\n",
    "counts,*_ = np.histogram(PI, bins=np.arange(0,1536,1))\n",
    "error = np.sqrt(counts)\n",
    "outfile = \"./data/LE/le_spec_phase_0.2-0.4.pha\"\n",
    "create_LE_specfile(exposure,counts,error,outfile)\n",
    "# 我们使用 fparkey 工具修改能谱文件中曝光时间的值\n",
    "fparkey_cmd = \"fparkey %s %s EXPOSURE\"%(str(exposure),outfile)\n",
    "!{fparkey_cmd}\n",
    "#-------------------------------\n",
    "\n",
    "\n",
    "!fselect ./data/LE/le_screen.fits ./data/LE/le_screen_phase_0.4-0.6.fits expr=\"Phase>=0.4&&Phase<0.6\" clobber=yes\n",
    "hdulist = fits.open(\"./data/LE/le_screen_phase_0.4-0.6.fits\")\n",
    "PI = hdulist[1].data.field(\"PI\")\n",
    "# 该能谱的曝光时间为总曝光时间的1/5，因为光子为总相位的1/5，\n",
    "# 我们计算exposure时应除以5\n",
    "exposure = hdulist[1].header[\"exposure\"]/5\n",
    "hdulist.close()\n",
    "# 产生 LE 的能谱的计数\n",
    "counts,*_ = np.histogram(PI, bins=np.arange(0,1536,1))\n",
    "error = np.sqrt(counts)\n",
    "outfile = \"./data/LE/le_spec_phase_0.4-0.6.pha\"\n",
    "create_LE_specfile(exposure,counts,error,outfile)\n",
    "# 我们使用 fparkey 工具修改能谱文件中曝光时间的值\n",
    "fparkey_cmd = \"fparkey %s %s EXPOSURE\"%(str(exposure),outfile)\n",
    "!{fparkey_cmd}\n",
    "#-------------------------------\n",
    "\n",
    "\n",
    "!fselect ./data/LE/le_screen.fits ./data/LE/le_screen_phase_0.8-1.0.fits expr=\"Phase>=0.8&&Phase<1.0\" clobber=yes\n",
    "hdulist = fits.open(\"./data/LE/le_screen_phase_0.8-1.0.fits\")\n",
    "PI = hdulist[1].data.field(\"PI\")\n",
    "# 该能谱的曝光时间为总曝光时间的1/5，因为光子为总相位的1/5，\n",
    "# 我们计算exposure时应除以5\n",
    "exposure = hdulist[1].header[\"exposure\"]/5\n",
    "hdulist.close()\n",
    "# 产生 LE 的能谱的计数\n",
    "counts,*_ = np.histogram(PI, bins=np.arange(0,1536,1))\n",
    "error = np.sqrt(counts)\n",
    "outfile = \"./data/LE/le_spec_phase_0.8-1.0.pha\"\n",
    "create_LE_specfile(exposure,counts,error,outfile)\n",
    "# 我们使用 fparkey 工具修改能谱文件中曝光时间的值\n",
    "fparkey_cmd = \"fparkey %s %s EXPOSURE\"%(str(exposure),outfile)\n",
    "!{fparkey_cmd}"
   ]
  },
  {
   "cell_type": "code",
   "execution_count": 64,
   "metadata": {},
   "outputs": [
    {
     "name": "stdout",
     "output_type": "stream",
     "text": [
      "./data/LE/le_spec_g0_0-94.pha\r\n",
      "./data/LE/le_spec_phase_bkg.pha\r\n",
      "./data/LE/le_spec_phase_0.0-0.2.pha\r\n",
      "./data/LE/le_spec_phase_0.2-0.4.pha\r\n",
      "./data/LE/le_spec_phase_0.4-0.6.pha\r\n",
      "./data/LE/le_spec_phase_0.8-1.0.pha\r\n"
     ]
    }
   ],
   "source": [
    "!ls -tr1 ./data/LE/le_spec_*pha"
   ]
  },
  {
   "cell_type": "markdown",
   "metadata": {},
   "source": [
    "我们产生了4个相位的能谱，以及0.6-0.8相位的能谱作为背景能谱，我们下面可以使用 Xspec 拟合能谱"
   ]
  },
  {
   "cell_type": "markdown",
   "metadata": {},
   "source": [
    "### 能谱拟合"
   ]
  },
  {
   "cell_type": "markdown",
   "metadata": {},
   "source": [
    "我们在 Xspec 中拟合该能谱（改软件包不包含 Xspec，请自行初始化HEASOFT，并在命令行输入 xspec 进入\n",
    "Xspec 环境。"
   ]
  },
  {
   "cell_type": "markdown",
   "metadata": {},
   "source": [
    "`$ xspec `\n",
    "\n",
    "`\t\tXSPEC version: 12.10.0c`\n",
    "`\tBuild Date/Time: Mon Jul  2 19:29:01 2018`\n",
    "\n",
    "<b>XSPEC12></b> `data ./data/LE/le_spec_phase_0.0-0.2.pha`\n",
    "\n",
    "<b>XSPEC12></b> `back ./data/LE/le_spec_phase_bkg.pha `\n",
    "\n",
    "<b>XSPEC12></b> `response ./data/LE/le_rsp.fits`\n",
    "\n",
    "<b>XSPEC12></b> `cpd /xw`\n",
    "\n",
    "<b>XSPEC12></b> `ignore **-1.0 10.0-**`\n",
    "\n",
    "<b>XSPEC12></b> `mo TBabs*pow`\n",
    "\n",
    "<b>XSPEC12></b> `/*`\n",
    "\n",
    "<b>XSPEC12></b> `fit`\n",
    "\n",
    "<b>XSPEC12></b> `setpl rebin 3 15`\n",
    "\n",
    "<b>XSPEC12></b> `pl ld del`"
   ]
  },
  {
   "attachments": {
    "le_spec_phase_0.0-0.2.png": {
     "image/png": "[encoded data removed]"
    }
   },
   "cell_type": "markdown",
   "metadata": {},
   "source": [
    "![le_spec_phase_0.0-0.2.png](attachment:le_spec_phase_0.0-0.2.png)"
   ]
  },
  {
   "cell_type": "markdown",
   "metadata": {},
   "source": [
    "我们可以看到 LE 的拟合结果\n",
    "\n",
    "`Current model list:`\n",
    "\n",
    "`========================================================================\n",
    "Model TBabs<1>*powerlaw<2> Source No.: 1   Active/On\n",
    "Model Model Component  Parameter  Unit     Value\n",
    " par  comp\n",
    "   1    1   TBabs      nH         10^22    0.600477     +/-  0.106388     \n",
    "   2    2   powerlaw   PhoIndex            1.81481      +/-  8.19737E-02  \n",
    "   3    2   powerlaw   norm                1.33191      +/-  0.168975     \n",
    "________________________________________________________________________`\n",
    "\n",
    "`   Using energies from responses.`\n",
    "\n",
    "`Fit statistic : Chi-Squared =        1054.35 using 1062 PHA bins.`\n",
    "\n",
    "`Test statistic : Chi-Squared =        1054.35 using 1062 PHA bins.\n",
    " Reduced chi-squared =       0.995606 for   1059 degrees of freedom \n",
    " Null hypothesis probability =   5.345763e-01\n",
    " Weighting method: standard`"
   ]
  },
  {
   "cell_type": "markdown",
   "metadata": {},
   "source": [
    "***"
   ]
  },
  {
   "cell_type": "markdown",
   "metadata": {},
   "source": [
    "## 结束语"
   ]
  },
  {
   "cell_type": "markdown",
   "metadata": {},
   "source": [
    "我们由于篇幅受限，仅介绍了 LE 的相位分解谱处理流程，HE 和 ME 的处理过程是类似的，实际情况中，你可以写一个脚本完成这些处理，并对所有的数据做循环操作。具体的处理过程，可以参考我们的文章 \n",
    "\n",
    "`Ge, M. Y., et al. \"X-RAY PHASE-RESOLVED SPECTROSCOPY OF PSRs B0531+ 21, B1509–58, AND B0540–69 WITH RXTE.\" The Astrophysical Journal Supplement Series 199.2 (2012): 32.`\n",
    "\n",
    "`Tuo, You-Li, et al. \"Insight-HXMT observations of the Crab pulsar.\" RAA 19.6 (2019): 087.`\n",
    "\n",
    "如果对处理过程及代码有任何疑问、建议、bug反馈，你可以在该notebook托管的github仓库https://github.com/tuoyl/hxmt_analysis_demo 反馈，欢迎 raise an issue 或是合作。你也可以联系HXMT地面应用系统的老师咨询具体的问题，包括但不限制于数据、软件、探测器、科学。\n",
    "\n",
    "good luck and have fun!"
   ]
  }
 ],
 "metadata": {
  "kernelspec": {
   "display_name": "Python 3",
   "language": "python",
   "name": "python3"
  },
  "language_info": {
   "codemirror_mode": {
    "name": "ipython",
    "version": 3
   },
   "file_extension": ".py",
   "mimetype": "text/x-python",
   "name": "python",
   "nbconvert_exporter": "python",
   "pygments_lexer": "ipython3",
   "version": "3.7.3"
  }
 },
 "nbformat": 4,
 "nbformat_minor": 2
}
