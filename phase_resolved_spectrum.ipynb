{
 "cells": [
  {
   "cell_type": "markdown",
   "metadata": {},
   "source": [
    "# *Insight*-HXMT 相位分解谱处理示例\n",
    "## ——[概览](#概览)、[数据预处理](#数据预处理)、[计时分析](#计时分析)、[能谱分析](#能谱分析)\n",
    "\n",
    "庹攸隶(tuoyl@ihep.ac.cn)\n",
    "##### 最终结果：使用慧眼一次 Crab 的观测数据，产生 Crab 脉冲星的相位分解谱"
   ]
  },
  {
   "cell_type": "markdown",
   "metadata": {},
   "source": [
    "## 概览\n",
    "### 准备工作\n",
    "该 Jupyter 文本使用 Python3 环境，若想执行以下所有命令，需要如下操作：\n",
    "* 安装并初始化 HXMTDAS 环境（例如能在终端中运行```hepical```命令）\n",
    "* 使用 Python3.* 版本，并安装有 astropy, numpy, matplotlib 模块\n",
    "    （若使用 conda 环境，请在 environment.yml 文件所在路径执行 ``` conda env create -f environment.yml ``` 安装名为 hxmt_analysis 的环境，然后执行 ```conda activate hxmt_analysis```\n",
    "    <div class=\"alert alert-block alert-info\">\n",
    "<b>NOTES\n",
    "    :</b> 该介绍中涉及到的命令，你可以在 Jupyter 中使用 Shift+Enter 逐条执行。你同时完全可以在终端中执行所有命令。\n",
    "</div>\n",
    "    \n",
    "### 目标\n",
    "* **数据预处理**：使用慧眼用户处理软件（HXMTDAS v2.01）产生用于分析的数据产品\n",
    "* **计时分析**：使用 Crab 的星历（ephemeris）产生 Crab 的脉冲轮廓\n",
    "* **能谱分析**：对轮廓分成多个相位区间，得到各个区间的能谱及背景能谱"
   ]
  },
  {
   "cell_type": "markdown",
   "metadata": {},
   "source": [
    "## 数据预处理\n",
    "数据预处理针对三个载荷高能、中能和低等载荷，分别是：\n",
    "* [高能载荷(HE)数据处理](#高能载荷(HE)数据处理)\n",
    "* [中能载荷(ME)数据处理](#中能载荷(ME)数据处理)\n",
    "* [低能载荷(LE)数据处理](#低能载荷(LE)数据处理)\n",
    "\n",
    "### 高能载荷(HE)数据处理\n",
    "### hepical"
   ]
  },
  {
   "cell_type": "code",
   "execution_count": 4,
   "metadata": {
    "scrolled": true
   },
   "outputs": [
    {
     "name": "stdout",
     "output_type": "stream",
     "text": [
      "hepical : ##############################################\n",
      "hepical : HXMT HE task, hepical is running\n",
      "hepical : PILParSet Warning: parameter 'clobber' set to yes!\n",
      "hepical : PILParSet Warning: the file ./data/HE/he_pi.fits will be overwritten!\n",
      "hepical : HxmtCaldb Error: There are not files that satisfied the selection criteria!\n",
      "hepical : HxmtCaldb Error: 'Telescope' HXMT 'instrument' HE 'detname' NONE 'filter' NONE 'codename' CHAN2PI_0' \n",
      "hepical : hepical: Error: Unable to get 'gain (codename:CHAN2PI_0)' file named ''!\n",
      "hepical : HXMT HE task, hepical is running unsuccessfully!\n",
      "hepical : ##############################################\n"
     ]
    }
   ],
   "source": [
    "!hepical evtfile=./data/HE/HXMT_P010129900101_HE-Evt_FFFFFF_V1_L1P.FITS outfile=./data/HE/he_pi.fits clobber=yes"
   ]
  },
  {
   "cell_type": "markdown",
   "metadata": {},
   "source": [
    "<div class=\"alert alert-block alert-warning\">\n",
    "<b>NOTES:</b> 若出现报错 hepical : hepical: Error: Unable to get 'gain (codename:CHAN2PI_0)' file named ''! 则根据 CALDB 中 gainfile 的路径手动指定，执行如下命令。\n",
    "</div>"
   ]
  },
  {
   "cell_type": "code",
   "execution_count": 7,
   "metadata": {},
   "outputs": [
    {
     "name": "stdout",
     "output_type": "stream",
     "text": [
      "hepical : ##############################################\n",
      "hepical : HXMT HE task, hepical is running\n",
      "[####################################################################################################][100%]\n",
      "hepical : HXMT HE task, all events from raw evt file is 145630697!\n",
      "hepical : HXMT HE task, glitch removal events is 636135!\n",
      "hepical : HXMT HE task, hepical is running successfully!\n",
      "hepical : ##############################################\n"
     ]
    }
   ],
   "source": [
    "!hepical evtfile=./data/HE/HXMT_P010129900101_HE-Evt_FFFFFF_V1_L1P.FITS gainfile=/Users/tuoyouli/Documents/hxmtsoft_newtest/CALDB/data/hxmt/he/bcf/hxmt_he_gain_20171030_v1.fits outfile=./data/HE/he_pi.fits clobber=yes"
   ]
  },
  {
   "cell_type": "markdown",
   "metadata": {},
   "source": [
    "运行该命令根据不同的计算机性能，通常会占用你2-3分钟的时间。输出产生一个新的事例文件，命名为 he_pi.fits。"
   ]
  },
  {
   "cell_type": "code",
   "execution_count": 8,
   "metadata": {},
   "outputs": [
    {
     "name": "stdout",
     "output_type": "stream",
     "text": [
      "total 9658648\r\n",
      "-rwx------  1 tuoyouli  staff     1143360 Aug 19 15:31 \u001b[31mHXMT_P010129900101_HE-HV_FFFFFF_V1_L1P.FITS\u001b[m\u001b[m\r\n",
      "-rwx------  1 tuoyouli  staff      469440 Aug 19 15:31 \u001b[31mHXMT_P010129900101_HE-DTime_FFFFFF_V1_L1P.FITS\u001b[m\u001b[m\r\n",
      "-rwx------  1 tuoyouli  staff      109440 Aug 19 15:31 \u001b[31mHXMT_P010129900101_HE-PM_FFFFFF_V1_L1P.FITS\u001b[m\u001b[m\r\n",
      "-rwx------  1 tuoyouli  staff     1673280 Aug 19 15:31 \u001b[31mHXMT_P010129900101_HE-TH_FFFFFF_V1_L1P.FITS\u001b[m\u001b[m\r\n",
      "-rw-r--r--  1 tuoyouli  staff  2330262720 Aug 19 15:31 HXMT_P010129900101_HE-Evt_FFFFFF_V1_L1P.FITS\r\n",
      "-rwx------  1 tuoyouli  staff      149760 Aug 19 15:31 \u001b[31mHXMT_P010129900101_HE-InsStat_FFFFFF_V1_L1P.FITS\u001b[m\u001b[m\r\n",
      "-rw-r--r--  1 tuoyouli  staff  2610072000 Aug 19 20:18 he_pi.fits\r\n"
     ]
    }
   ],
   "source": [
    "!ls -trl ./data/HE/"
   ]
  },
  {
   "cell_type": "markdown",
   "metadata": {},
   "source": [
    "### hegtigen\n",
    "生成 HE 载荷的好时间文件（GTIs）"
   ]
  },
  {
   "cell_type": "code",
   "execution_count": 11,
   "metadata": {},
   "outputs": [
    {
     "name": "stdout",
     "output_type": "stream",
     "text": [
      "hegtigen : ##############################################\n",
      "hegtigen : HXMT HE task, hegtigen is running\n",
      "hegtigen : PILParSet Warning: parameter 'clobber' set to yes!\n",
      "hegtigen : PILParSet Warning: the file ./data/HE/he_gti.fits will be overwritten!\n",
      "hegtigen : HXMT HE task, hegtigen is running successfully!\n",
      "hegtigen : ##############################################\n"
     ]
    }
   ],
   "source": [
    "!hegtigen hvfile=./data/HE/HXMT_P010129900101_HE-HV_FFFFFF_V1_L1P.FITS tempfile=./data/HE/HXMT_P010129900101_HE-TH_FFFFFF_V1_L1P.FITS ehkfile=./data/AUX/HXMT_P010129900101_HE-EHK_FFFFFF_V1_L1P.FITS outfile=./data/HE/he_gti.fits defaultexpr=\"NONE\" expr=\"ELV>10&&COR>8&&T_SAA>=300&&TN_SAA>=300&&ANG_DIST<=0.04\" clobber=yes"
   ]
  },
  {
   "cell_type": "markdown",
   "metadata": {},
   "source": [
    "我们推荐的对于涉及到能谱分析的好时间判选条件为```ELV>10&&COR>8&&T_SAA>=300&&TN_SAA>=300&&ANG_DIST<=0.04```。\n",
    "同样的，你可以查看输出文件，我们这一步产生了一个命名为 he_gti.fits 的 FITS 文件。"
   ]
  },
  {
   "cell_type": "code",
   "execution_count": 12,
   "metadata": {},
   "outputs": [
    {
     "name": "stdout",
     "output_type": "stream",
     "text": [
      "total 9658688\r\n",
      "-rwx------  1 tuoyouli  staff     1143360 Aug 19 15:31 \u001b[31mHXMT_P010129900101_HE-HV_FFFFFF_V1_L1P.FITS\u001b[m\u001b[m\r\n",
      "-rwx------  1 tuoyouli  staff      469440 Aug 19 15:31 \u001b[31mHXMT_P010129900101_HE-DTime_FFFFFF_V1_L1P.FITS\u001b[m\u001b[m\r\n",
      "-rwx------  1 tuoyouli  staff      109440 Aug 19 15:31 \u001b[31mHXMT_P010129900101_HE-PM_FFFFFF_V1_L1P.FITS\u001b[m\u001b[m\r\n",
      "-rwx------  1 tuoyouli  staff     1673280 Aug 19 15:31 \u001b[31mHXMT_P010129900101_HE-TH_FFFFFF_V1_L1P.FITS\u001b[m\u001b[m\r\n",
      "-rw-r--r--  1 tuoyouli  staff  2330262720 Aug 19 15:31 HXMT_P010129900101_HE-Evt_FFFFFF_V1_L1P.FITS\r\n",
      "-rwx------  1 tuoyouli  staff      149760 Aug 19 15:31 \u001b[31mHXMT_P010129900101_HE-InsStat_FFFFFF_V1_L1P.FITS\u001b[m\u001b[m\r\n",
      "-rw-r--r--  1 tuoyouli  staff  2610072000 Aug 19 20:18 he_pi.fits\r\n",
      "-rw-r--r--  1 tuoyouli  staff       17280 Aug 19 20:19 he_gti.fits\r\n"
     ]
    }
   ],
   "source": [
    "!ls -trl ./data/HE/"
   ]
  },
  {
   "cell_type": "markdown",
   "metadata": {},
   "source": [
    "### hescreen\n",
    "根据 GTIs 选择出符合要求的好事例"
   ]
  },
  {
   "cell_type": "code",
   "execution_count": 1,
   "metadata": {},
   "outputs": [
    {
     "name": "stdout",
     "output_type": "stream",
     "text": [
      "hescreen : ##############################################\n",
      "hescreen : HXMT HE task, hescreen is running\n",
      "hescreen : PILParSet Warning: parameter 'clobber' set to yes!\n",
      "hescreen : PILParSet Warning: the file ./data/HE/he_screen.fits will be overwritten!\n",
      "hescreen : hescreen: User detector selection:\n",
      "hescreen : HxmtBadDetector Info: there is no bad detector!\n",
      "[####################################################################################################][100%]\n",
      "hescreen : HEScreen task: \n",
      "hescreen : Detector ID '0' has event number :237400\n",
      "hescreen : Detector ID '1' has event number :244273\n",
      "hescreen : Detector ID '2' has event number :263201\n",
      "hescreen : Detector ID '3' has event number :247841\n",
      "hescreen : Detector ID '4' has event number :236576\n",
      "hescreen : Detector ID '5' has event number :242721\n",
      "hescreen : Detector ID '6' has event number :252674\n",
      "hescreen : Detector ID '7' has event number :237050\n",
      "hescreen : Detector ID '8' has event number :261260\n",
      "hescreen : Detector ID '9' has event number :272592\n",
      "hescreen : Detector ID '10' has event number :230527\n",
      "hescreen : Detector ID '11' has event number :235224\n",
      "hescreen : Detector ID '12' has event number :238701\n",
      "hescreen : Detector ID '13' has event number :231849\n",
      "hescreen : Detector ID '14' has event number :223936\n",
      "hescreen : Detector ID '15' has event number :232500\n",
      "hescreen : Detector ID '16' has event number :91033\n",
      "hescreen : Detector ID '17' has event number :234191\n",
      "hescreen : HXMT HE task, hescreen is running successfully!\n",
      "hescreen : ##############################################\n"
     ]
    }
   ],
   "source": [
    "!hescreen evtfile=./data/HE/he_pi.fits gtifile=./data/HE/he_gti.fits outfile=./data/HE/he_screen.fits userdetid=0-17 minPI=0 maxPI=255 clobber=yes"
   ]
  },
  {
   "cell_type": "markdown",
   "metadata": {},
   "source": [
    "运行 hescreen 命令大约会占用你1分钟时间，输出文件为 he_screen.fits。我们这里选择了探测器编号0-17，即全选，选择了能道0-255，也是全选。如果你选择产生不同能段的光子，则可以修改 minPI 和 maxPI 的值。"
   ]
  },
  {
   "cell_type": "markdown",
   "metadata": {},
   "source": [
    "### hespecgen \n",
    "生成能谱文件（spectra）"
   ]
  },
  {
   "cell_type": "code",
   "execution_count": 1,
   "metadata": {},
   "outputs": [
    {
     "name": "stdout",
     "output_type": "stream",
     "text": [
      "hespecgen : HXMT HE task, hespecgen is running\n",
      "hespecgen : hespecgen: User detector selection:\n",
      "[####################################################################################################][100%]\n",
      "hespecgen : HXMT HE task, hespecgen is running successfully!\n",
      "hespecgen : ##############################################\n"
     ]
    }
   ],
   "source": [
    "!hespecgen evtfile=./data/HE/he_screen.fits outfile=./data/HE/he_spec deadfile=./data/HE/HXMT_P010129900101_HE-DTime_FFFFFF_V1_L1P.FITS userdetid=\"0;1;2;3;4;5;6;7;8;9;10;11;12;13;14;15;16;17\" starttime=0 stoptime=0 minPI=0 maxPI=255 clobber=yes"
   ]
  },
  {
   "cell_type": "markdown",
   "metadata": {},
   "source": [
    "我们在这一步生成了 HE 的18个探测器的能谱，通过 userdetid 参数选择探测器。使用分号(;)将各个探测器编号做分割，使我们产生了18个能谱，而不是18个探测器的总能谱。可以查看一下我们产生的结果，是18个以```he_spec```为前缀的```.pha```文件。能谱的结果可以在[能谱分析](#能谱分析)一节查看，这里暂不做展开。"
   ]
  },
  {
   "cell_type": "code",
   "execution_count": 6,
   "metadata": {
    "scrolled": true
   },
   "outputs": [
    {
     "name": "stdout",
     "output_type": "stream",
     "text": [
      "HXMT_P010129900101_HE-HV_FFFFFF_V1_L1P.FITS\t  he_spec_g4_4.pha\r\n",
      "HXMT_P010129900101_HE-DTime_FFFFFF_V1_L1P.FITS\t  he_spec_g3_3.pha\r\n",
      "he_pi.fits\t\t\t\t\t  he_spec_g2_2.pha\r\n",
      "he_gti.fits\t\t\t\t\t  he_spec_g17_17.pha\r\n",
      "HXMT_P010129900101_HE-PM_FFFFFF_V1_L1P.FITS\t  he_spec_g16_16.pha\r\n",
      "he_screen.fits\t\t\t\t\t  he_spec_g15_15.pha\r\n",
      "HXMT_P010129900101_HE-TH_FFFFFF_V1_L1P.FITS\t  he_spec_g14_14.pha\r\n",
      "HXMT_P010129900101_HE-InsStat_FFFFFF_V1_L1P.FITS  he_spec_g13_13.pha\r\n",
      "HXMT_P010129900101_HE-Evt_FFFFFF_V1_L1P.FITS\t  he_spec_g12_12.pha\r\n",
      "he_spec_g9_9.pha\t\t\t\t  he_spec_g1_1.pha\r\n",
      "he_spec_g8_8.pha\t\t\t\t  he_spec_g11_11.pha\r\n",
      "he_spec_g7_7.pha\t\t\t\t  he_spec_g10_10.pha\r\n",
      "he_spec_g6_6.pha\t\t\t\t  he_spec_g0_0.pha\r\n",
      "he_spec_g5_5.pha\r\n"
     ]
    }
   ],
   "source": [
    "!ls -tr ./data/HE/"
   ]
  },
  {
   "cell_type": "markdown",
   "metadata": {},
   "source": [
    "<div class=\"alert alert-block alert-info\">\n",
    "<b>NOTES:</b> 我们之所以要产生18个能谱而不是一个总谱，是由于各个探测器的响应矩阵不一样，我们在之后会根据各个探测器的能谱产生其各自的响应（盲探测器不产生）。最后会将能谱和响应矩阵合并。\n",
    "</div>"
   ]
  },
  {
   "cell_type": "code",
   "execution_count": 1,
   "metadata": {},
   "outputs": [
    {
     "name": "stdout",
     "output_type": "stream",
     "text": [
      "./data/HE/he_spec_g0_0.pha\r\n",
      "./data/HE/he_spec_g1_1.pha\r\n",
      "./data/HE/he_spec_g2_2.pha\r\n",
      "./data/HE/he_spec_g3_3.pha\r\n",
      "./data/HE/he_spec_g4_4.pha\r\n",
      "./data/HE/he_spec_g5_5.pha\r\n",
      "./data/HE/he_spec_g6_6.pha\r\n",
      "./data/HE/he_spec_g7_7.pha\r\n",
      "./data/HE/he_spec_g8_8.pha\r\n",
      "./data/HE/he_spec_g9_9.pha\r\n",
      "./data/HE/he_spec_g10_10.pha\r\n",
      "./data/HE/he_spec_g11_11.pha\r\n",
      "./data/HE/he_spec_g12_12.pha\r\n",
      "./data/HE/he_spec_g13_13.pha\r\n",
      "./data/HE/he_spec_g14_14.pha\r\n",
      "./data/HE/he_spec_g15_15.pha\r\n",
      "./data/HE/he_spec_g16_16.pha\r\n",
      "./data/HE/he_spec_g17_17.pha\r\n"
     ]
    }
   ],
   "source": [
    "!ls ./data/HE/he_spec*.pha | sort -V > ./data/HE/he_spec.txt\n",
    "!cat ./data/HE/he_spec.txt"
   ]
  },
  {
   "cell_type": "markdown",
   "metadata": {},
   "source": [
    "### herspgen\n",
    "产生除盲探测器外，所有探测器各自的响应矩阵"
   ]
  },
  {
   "cell_type": "code",
   "execution_count": 1,
   "metadata": {},
   "outputs": [
    {
     "name": "stdout",
     "output_type": "stream",
     "text": [
      "herspgen : HXMT HE task, herspgen is running\n",
      "herspgen : HERspGen: Attitude and Alignment correction of detector '0'  is 0.985351 !\n",
      "herspgen : HXMT HE task, herspgen is running successfully!\n",
      "herspgen : ##############################################\n",
      "herspgen : HXMT HE task, herspgen is running\n",
      "herspgen : HERspGen: Attitude and Alignment correction of detector '1'  is 0.980126 !\n",
      "herspgen : HXMT HE task, herspgen is running successfully!\n",
      "herspgen : ##############################################\n",
      "herspgen : HXMT HE task, herspgen is running\n",
      "herspgen : HERspGen: Attitude and Alignment correction of detector '2'  is 0.995052 !\n",
      "herspgen : HXMT HE task, herspgen is running successfully!\n",
      "herspgen : ##############################################\n",
      "herspgen : HXMT HE task, herspgen is running\n",
      "herspgen : HERspGen: Attitude and Alignment correction of detector '3'  is 0.980126 !\n",
      "herspgen : HXMT HE task, herspgen is running successfully!\n",
      "herspgen : ##############################################\n",
      "herspgen : HXMT HE task, herspgen is running\n",
      "herspgen : HERspGen: Attitude and Alignment correction of detector '4'  is 0.985351 !\n",
      "herspgen : HXMT HE task, herspgen is running successfully!\n",
      "herspgen : ##############################################\n",
      "herspgen : HXMT HE task, herspgen is running\n",
      "herspgen : HERspGen: Attitude and Alignment correction of detector '5'  is 0.988759 !\n",
      "herspgen : HXMT HE task, herspgen is running successfully!\n",
      "herspgen : ##############################################\n",
      "herspgen : HXMT HE task, herspgen is running\n",
      "herspgen : HERspGen: Attitude and Alignment correction of detector '6'  is 0.988759 !\n",
      "herspgen : HXMT HE task, herspgen is running successfully!\n",
      "herspgen : ##############################################\n",
      "herspgen : HXMT HE task, herspgen is running\n",
      "herspgen : HERspGen: Attitude and Alignment correction of detector '7'  is 0.985351 !\n",
      "herspgen : HXMT HE task, herspgen is running successfully!\n",
      "herspgen : ##############################################\n",
      "herspgen : HXMT HE task, herspgen is running\n",
      "herspgen : HERspGen: Attitude and Alignment correction of detector '8'  is 0.980126 !\n",
      "herspgen : HXMT HE task, herspgen is running successfully!\n",
      "herspgen : ##############################################\n",
      "herspgen : HXMT HE task, herspgen is running\n",
      "herspgen : HERspGen: Attitude and Alignment correction of detector '9'  is 0.99474 !\n",
      "herspgen : HXMT HE task, herspgen is running successfully!\n",
      "herspgen : ##############################################\n",
      "herspgen : HXMT HE task, herspgen is running\n",
      "herspgen : HERspGen: Attitude and Alignment correction of detector '10'  is 0.988759 !\n",
      "herspgen : HXMT HE task, herspgen is running successfully!\n",
      "herspgen : ##############################################\n",
      "herspgen : HXMT HE task, herspgen is running\n",
      "herspgen : HERspGen: Attitude and Alignment correction of detector '11'  is 0.980126 !\n",
      "herspgen : HXMT HE task, herspgen is running successfully!\n",
      "herspgen : ##############################################\n",
      "herspgen : HXMT HE task, herspgen is running\n",
      "herspgen : HERspGen: Attitude and Alignment correction of detector '12'  is 0.980126 !\n",
      "herspgen : HXMT HE task, herspgen is running successfully!\n",
      "herspgen : ##############################################\n",
      "herspgen : HXMT HE task, herspgen is running\n",
      "herspgen : HERspGen: Attitude and Alignment correction of detector '13'  is 0.988759 !\n",
      "herspgen : HXMT HE task, herspgen is running successfully!\n",
      "herspgen : ##############################################\n",
      "herspgen : HXMT HE task, herspgen is running\n",
      "herspgen : HERspGen: Attitude and Alignment correction of detector '14'  is 0.985351 !\n",
      "herspgen : HXMT HE task, herspgen is running successfully!\n",
      "herspgen : ##############################################\n",
      "herspgen : HXMT HE task, herspgen is running\n",
      "herspgen : HERspGen: Attitude and Alignment correction of detector '15'  is 0.988759 !\n",
      "herspgen : HXMT HE task, herspgen is running successfully!\n",
      "herspgen : ##############################################\n",
      "herspgen : HXMT HE task, herspgen is running\n",
      "herspgen : HERspGen: Attitude and Alignment correction of detector '17'  is 0.985351 !\n",
      "herspgen : HXMT HE task, herspgen is running successfully!\n",
      "herspgen : ##############################################\n"
     ]
    }
   ],
   "source": [
    "phalist = open(\"./data/HE/he_spec.txt\")\n",
    "for phafile,i in zip(phalist,range(18)):\n",
    "    if i == 16:continue # 16号盲探测器不产生响应矩阵\n",
    "    herspgen_text = \"herspgen phafile=%s outfile=./data/HE/he_rsp_g%s.fits attfile=%s ra=-1 dec=-91 clobber=yes\"%(phafile[0:-1], str(i), \"./data/ACS/HXMT_P010129900101_Att_FFFFFF_V1_L1P.FITS\")\n",
    "    !{herspgen_text}\n",
    "phalist.close()"
   ]
  },
  {
   "cell_type": "markdown",
   "metadata": {},
   "source": [
    "我们产生了17个探测器的响应矩阵。可以查看产生的结果"
   ]
  },
  {
   "cell_type": "code",
   "execution_count": 4,
   "metadata": {},
   "outputs": [
    {
     "name": "stdout",
     "output_type": "stream",
     "text": [
      "./data/HE//he_rsp_g0.fits  ./data/HE//he_rsp_g9.fits\r\n",
      "./data/HE//he_rsp_g1.fits  ./data/HE//he_rsp_g10.fits\r\n",
      "./data/HE//he_rsp_g2.fits  ./data/HE//he_rsp_g11.fits\r\n",
      "./data/HE//he_rsp_g3.fits  ./data/HE//he_rsp_g12.fits\r\n",
      "./data/HE//he_rsp_g4.fits  ./data/HE//he_rsp_g13.fits\r\n",
      "./data/HE//he_rsp_g5.fits  ./data/HE//he_rsp_g14.fits\r\n",
      "./data/HE//he_rsp_g6.fits  ./data/HE//he_rsp_g15.fits\r\n",
      "./data/HE//he_rsp_g7.fits  ./data/HE//he_rsp_g17.fits\r\n",
      "./data/HE//he_rsp_g8.fits\r\n"
     ]
    }
   ],
   "source": [
    "!ls -tr ./data/HE//he_rsp*"
   ]
  },
  {
   "cell_type": "markdown",
   "metadata": {},
   "source": [
    "### 中能载荷(ME)数据处理"
   ]
  },
  {
   "cell_type": "markdown",
   "metadata": {},
   "source": [
    "### 低能载荷(LE)数据处理"
   ]
  },
  {
   "cell_type": "markdown",
   "metadata": {},
   "source": [
    "## 能谱分析"
   ]
  },
  {
   "cell_type": "code",
   "execution_count": null,
   "metadata": {},
   "outputs": [],
   "source": []
  }
 ],
 "metadata": {
  "kernelspec": {
   "display_name": "Python 3",
   "language": "python",
   "name": "python3"
  },
  "language_info": {
   "codemirror_mode": {
    "name": "ipython",
    "version": 3
   },
   "file_extension": ".py",
   "mimetype": "text/x-python",
   "name": "python",
   "nbconvert_exporter": "python",
   "pygments_lexer": "ipython3",
   "version": "3.7.3"
  }
 },
 "nbformat": 4,
 "nbformat_minor": 2
}
